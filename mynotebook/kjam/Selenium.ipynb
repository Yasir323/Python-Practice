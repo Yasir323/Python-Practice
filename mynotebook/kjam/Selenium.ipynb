{
 "cells": [
  {
   "cell_type": "code",
   "execution_count": 1,
   "metadata": {},
   "outputs": [],
   "source": [
    "import selenium"
   ]
  },
  {
   "cell_type": "code",
   "execution_count": 2,
   "metadata": {},
   "outputs": [],
   "source": [
    "%run start_selenium.py"
   ]
  },
  {
   "cell_type": "markdown",
   "metadata": {},
   "source": [
    "`get(\"url\")` : go to url.\n",
    "\n",
    "`elem.click()` : click on the element you have selected.\n",
    "\n",
    "Element properties:\n",
    "1. `location` : x and y coordinates.\n",
    "2. `parent` : parent element (might be browser/driver depending on how it was accessed)\n",
    "3. `tag_name` : what is the tag of the element\n",
    "4. `text` : get text of this element and it's children."
   ]
  },
  {
   "cell_type": "code",
   "execution_count": 3,
   "metadata": {},
   "outputs": [],
   "source": [
    "browser.get(\"http://python.org\")"
   ]
  },
  {
   "cell_type": "code",
   "execution_count": 4,
   "metadata": {},
   "outputs": [],
   "source": [
    "input = browser.find_element_by_tag_name(\"input\")"
   ]
  },
  {
   "cell_type": "code",
   "execution_count": 5,
   "metadata": {},
   "outputs": [],
   "source": [
    "from selenium.webdriver.common.keys import Keys"
   ]
  },
  {
   "cell_type": "code",
   "execution_count": 6,
   "metadata": {},
   "outputs": [],
   "source": [
    "input.send_keys(\"selenium\", Keys.RETURN)"
   ]
  },
  {
   "cell_type": "markdown",
   "metadata": {},
   "source": [
    "### `find_elements(s)`"
   ]
  },
  {
   "attachments": {},
   "cell_type": "markdown",
   "metadata": {},
   "source": [
    "`find_element(s)`…\n",
    "\n",
    "`by_link_text(‘foo’)`: find the link where the text is `foo`\n",
    "\n",
    "`by_partial_link_text`: only a part of the text needs to be identified (think ‘contains’)\n",
    "\n",
    "`by_css_selector`: just like with lxml css\n",
    "\n",
    "`by_tag_name`: ‘a’ for the first link or all links\n",
    "\n",
    "`by_xpath`: again practicing your xpath regex!\n",
    "\n",
    "`by_class_name`: CSS related, but this finds all different types that have the same class"
   ]
  },
  {
   "cell_type": "markdown",
   "metadata": {},
   "source": [
    "### `send_keys`"
   ]
  },
  {
   "attachments": {},
   "cell_type": "markdown",
   "metadata": {},
   "source": [
    "`send_keys`\n",
    "\n",
    "1. for any text field you can find that element and then send it keys.\n",
    "2. `elem.send_keys(‘myPassword’)`\n",
    "3. `elem.send_keys(‘heres more and then I’m entering’, Keys.RETURN)`\n",
    "4. you may also `elem.clear()` to clear the entered text.\n",
    "\n",
    "There are many keys available (http://selenium-python.readthedocs.org/api.html#module-selenium.webdriver.common.keys)"
   ]
  },
  {
   "cell_type": "markdown",
   "metadata": {},
   "source": [
    "### `ActionChains`"
   ]
  },
  {
   "attachments": {},
   "cell_type": "markdown",
   "metadata": {},
   "source": [
    "Moving around a page can prove tricky, so patience is key. `ActionChains` provide a way of stringing together one or more actions and then implementing them. As seen in our script, we can:\n",
    "1. `ActionChains(browser).move_by_offset(x,y)`\n",
    "2. `ActionChains(browser).move_to_element(elem)`\n",
    "3. `ActionChains(browser).move_to_element_by_offset(elem, x, y)`"
   ]
  },
  {
   "cell_type": "markdown",
   "metadata": {},
   "source": [
    "### Waits"
   ]
  },
  {
   "attachments": {},
   "cell_type": "markdown",
   "metadata": {},
   "source": [
    "Waits are a way to make sure the page and the DOM are all properly loaded.\n",
    "\n",
    "**Explicit Waits**: You can tell the browser to wait for a particular element (or other condition) for up to 10 seconds.\n",
    "\n",
    "**Implicit Waits**: This will poll the DOM for up to 10 seconds and then continue.\n",
    "\n",
    "To use Explicit Waits properly, you’ll dive into expected conditions. This has plethora options for you to specify the type of element behavior you are expecting. The documentation is very straightforward: http://selenium-python.readthedocs.org/waits.html#explicit-waits"
   ]
  },
  {
   "cell_type": "markdown",
   "metadata": {},
   "source": [
    "### Other functions"
   ]
  },
  {
   "cell_type": "markdown",
   "metadata": {},
   "source": [
    "`browser.execute_script(‘window.close()’)`: execute any javascript on a loaded page.\n",
    "\n",
    "`browser.save_screenshot(‘foo.png’)`: take a screenshot of a page\n",
    "\n",
    "`browser.switch_to_alert()`: handle pop ups\n",
    "\n",
    "`browser.forward()` / `browser.back()`: handle navigation"
   ]
  },
  {
   "cell_type": "markdown",
   "metadata": {},
   "source": [
    "##### Can you search Google for 'Selenium'?"
   ]
  },
  {
   "cell_type": "code",
   "execution_count": 7,
   "metadata": {},
   "outputs": [],
   "source": [
    "browser.get(\"http://www.google.com\")\n",
    "input = browser.find_elements_by_name(\"q\")[0]\n",
    "input.send_keys(\"selenium\", Keys.RETURN)"
   ]
  },
  {
   "cell_type": "markdown",
   "metadata": {},
   "source": [
    "##### Can you then return a list of the top 5 search results?"
   ]
  },
  {
   "cell_type": "code",
   "execution_count": 10,
   "metadata": {},
   "outputs": [
    {
     "data": {
      "text/plain": [
       "[<selenium.webdriver.firefox.webelement.FirefoxWebElement (session=\"2d29a4d1-bcad-41f5-b32a-6eb6095b077c\", element=\"126a2669-28cd-40d7-9c6a-87333af29e4a\")>,\n",
       " <selenium.webdriver.firefox.webelement.FirefoxWebElement (session=\"2d29a4d1-bcad-41f5-b32a-6eb6095b077c\", element=\"3338a0d3-30fc-4355-994b-40e126dd5c83\")>,\n",
       " <selenium.webdriver.firefox.webelement.FirefoxWebElement (session=\"2d29a4d1-bcad-41f5-b32a-6eb6095b077c\", element=\"cd0eb762-1378-4954-a778-418ccee83a1b\")>,\n",
       " <selenium.webdriver.firefox.webelement.FirefoxWebElement (session=\"2d29a4d1-bcad-41f5-b32a-6eb6095b077c\", element=\"86407da8-803c-4661-bff5-ff6cd10f992c\")>,\n",
       " <selenium.webdriver.firefox.webelement.FirefoxWebElement (session=\"2d29a4d1-bcad-41f5-b32a-6eb6095b077c\", element=\"1056dda7-501e-48f5-be44-5cce00f78114\")>]"
      ]
     },
     "execution_count": 10,
     "metadata": {},
     "output_type": "execute_result"
    }
   ],
   "source": [
    "results = browser.find_elements_by_css_selector(\"div.g\")\n",
    "top_five = results[0:5]\n",
    "top_five"
   ]
  },
  {
   "cell_type": "markdown",
   "metadata": {},
   "source": [
    "##### Can you print out a list of the text of the top 5 search results?"
   ]
  },
  {
   "cell_type": "code",
   "execution_count": 11,
   "metadata": {},
   "outputs": [
    {
     "data": {
      "text/plain": [
       "['Selenium WebDriver',\n",
       " 'Selenium with Python — Selenium Python Bindings 2 ...',\n",
       " 'Selenium: Definition, How it works and Why you need it ...',\n",
       " 'Selenium Tutorial for Beginners: Learn WebDriver in 7 Days',\n",
       " 'Selenium (software) - Wikipedia']"
      ]
     },
     "execution_count": 11,
     "metadata": {},
     "output_type": "execute_result"
    }
   ],
   "source": [
    "t = [browser.find_elements_by_tag_name(\"div div a h3 span\")[i].text for i in range(9)]\n",
    "top_five_text = []\n",
    "for i in range(9):\n",
    "    if t[i] == '':\n",
    "        continue\n",
    "    else:\n",
    "        top_five_text.append(t[i])\n",
    "top_five_text"
   ]
  },
  {
   "cell_type": "markdown",
   "metadata": {},
   "source": [
    "##### Can you click on the first search result you receive?"
   ]
  },
  {
   "cell_type": "code",
   "execution_count": 12,
   "metadata": {},
   "outputs": [],
   "source": [
    "browser.find_elements_by_tag_name(\"div div a h3 span\")[0].click()"
   ]
  }
 ],
 "metadata": {
  "kernelspec": {
   "display_name": "Python 3",
   "language": "python",
   "name": "python3"
  },
  "language_info": {
   "codemirror_mode": {
    "name": "ipython",
    "version": 3
   },
   "file_extension": ".py",
   "mimetype": "text/x-python",
   "name": "python",
   "nbconvert_exporter": "python",
   "pygments_lexer": "ipython3",
   "version": "3.8.4"
  }
 },
 "nbformat": 4,
 "nbformat_minor": 4
}

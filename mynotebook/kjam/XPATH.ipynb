{
 "cells": [
  {
   "cell_type": "markdown",
   "metadata": {},
   "source": [
    "XPATH is a nifty way that allows you to turn HTML into an easy to parse XML-node language. LXML has a built in xpath parser and there are several other libraries that have their own. It is pretty easy to learn and very portable. With a little bit of regex it can be a supremely powerful scraper.\n",
    "\n",
    "`/body/p` : would match all paragraphs in the body tag.\n",
    "    \n",
    "`//p/a` : would match all links in a paragraph in any child.\n",
    "    \n",
    "`../p` : would match all paragraphs in the parent element.\n",
    "\n",
    "`@` : will single out the attribute (`/a/@href`).\n",
    "\n",
    "`* / @*` : is a wildcard variable that allows you to match any sub-element or any attribute of the element you are parsing.\n",
    "\n",
    "`text()` / `comment()` / `node()` : match any of those elements within the current element (`//p/text()` would then match all text of all child paragraphs)"
   ]
  },
  {
   "cell_type": "code",
   "execution_count": 1,
   "metadata": {},
   "outputs": [],
   "source": [
    "from lxml import html"
   ]
  },
  {
   "cell_type": "code",
   "execution_count": 2,
   "metadata": {},
   "outputs": [],
   "source": [
    "%run xpath_intro.py"
   ]
  },
  {
   "cell_type": "code",
   "execution_count": 3,
   "metadata": {},
   "outputs": [
    {
     "data": {
      "text/plain": [
       "<Element html at 0x1b15d8e38b0>"
      ]
     },
     "execution_count": 3,
     "metadata": {},
     "output_type": "execute_result"
    }
   ],
   "source": [
    "simple_tree"
   ]
  },
  {
   "cell_type": "code",
   "execution_count": 4,
   "metadata": {},
   "outputs": [
    {
     "data": {
      "text/plain": [
       "[<Element p at 0x1b15d918d60>, <Element p at 0x1b15d918db0>]"
      ]
     },
     "execution_count": 4,
     "metadata": {},
     "output_type": "execute_result"
    }
   ],
   "source": [
    "simple_tree.xpath('//p')"
   ]
  },
  {
   "cell_type": "code",
   "execution_count": 5,
   "metadata": {},
   "outputs": [
    {
     "data": {
      "text/plain": [
       "['Lorem ipsum dolor sit amet, ...',\n",
       " 'Nunc cursus, justo eget elementum dictum, ... ']"
      ]
     },
     "execution_count": 5,
     "metadata": {},
     "output_type": "execute_result"
    }
   ],
   "source": [
    "simple_tree.xpath('//p/text()')"
   ]
  },
  {
   "cell_type": "code",
   "execution_count": 6,
   "metadata": {},
   "outputs": [
    {
     "data": {
      "text/plain": [
       "['\\n',\n",
       " <Element head at 0x1b15d951770>,\n",
       " '\\n',\n",
       " <Element body at 0x1b15d9517c0>,\n",
       " '\\n']"
      ]
     },
     "execution_count": 6,
     "metadata": {},
     "output_type": "execute_result"
    }
   ],
   "source": [
    "simple_tree.xpath('node()')"
   ]
  },
  {
   "cell_type": "code",
   "execution_count": 7,
   "metadata": {},
   "outputs": [
    {
     "data": {
      "text/plain": [
       "[<Element head at 0x1b15d951770>, <Element body at 0x1b15d9517c0>]"
      ]
     },
     "execution_count": 7,
     "metadata": {},
     "output_type": "execute_result"
    }
   ],
   "source": [
    "simple_tree.xpath('*')"
   ]
  },
  {
   "cell_type": "code",
   "execution_count": 8,
   "metadata": {},
   "outputs": [
    {
     "data": {
      "text/plain": [
       "[<Element div at 0x1b15d95a0e0>]"
      ]
     },
     "execution_count": 8,
     "metadata": {},
     "output_type": "execute_result"
    }
   ],
   "source": [
    "simple_tree.xpath('body/*')"
   ]
  },
  {
   "cell_type": "code",
   "execution_count": 9,
   "metadata": {},
   "outputs": [
    {
     "data": {
      "text/plain": [
       "[<Element div at 0x1b15d7e1ae0>]"
      ]
     },
     "execution_count": 9,
     "metadata": {},
     "output_type": "execute_result"
    }
   ],
   "source": [
    "simple_tree.xpath('body/div/*')"
   ]
  },
  {
   "cell_type": "code",
   "execution_count": 10,
   "metadata": {},
   "outputs": [
    {
     "data": {
      "text/plain": [
       "[<Element div at 0x1b15d95a040>,\n",
       " <Element div at 0x1b15d95a220>,\n",
       " <Element div at 0x1b15d95a270>]"
      ]
     },
     "execution_count": 10,
     "metadata": {},
     "output_type": "execute_result"
    }
   ],
   "source": [
    "simple_tree.xpath('body/div/div/*')"
   ]
  },
  {
   "cell_type": "code",
   "execution_count": 11,
   "metadata": {},
   "outputs": [
    {
     "data": {
      "text/plain": [
       "[<Element div at 0x1b15d7e1ae0>,\n",
       " <Element div at 0x1b15d95a040>,\n",
       " <Element div at 0x1b15d95a220>,\n",
       " <Element div at 0x1b15d95a540>,\n",
       " <Element ul at 0x1b15d95a590>,\n",
       " <Element div at 0x1b15d95a5e0>,\n",
       " <Element ul at 0x1b15d95a630>,\n",
       " <Element div at 0x1b15d95a270>,\n",
       " <Element div at 0x1b15d95a680>,\n",
       " <Element p at 0x1b15d918d60>,\n",
       " <Element div at 0x1b15d95a6d0>,\n",
       " <Element p at 0x1b15d918db0>]"
      ]
     },
     "execution_count": 11,
     "metadata": {},
     "output_type": "execute_result"
    }
   ],
   "source": [
    "simple_tree.xpath('body//div/*')"
   ]
  },
  {
   "cell_type": "code",
   "execution_count": 12,
   "metadata": {},
   "outputs": [
    {
     "data": {
      "text/plain": [
       "[<Element div at 0x1b15d7e1ae0>,\n",
       " <Element div at 0x1b15d95a040>,\n",
       " <Element div at 0x1b15d95a220>,\n",
       " <Element div at 0x1b15d95a540>,\n",
       " <Element ul at 0x1b15d95a590>,\n",
       " <Element div at 0x1b15d95a5e0>,\n",
       " <Element ul at 0x1b15d95a630>,\n",
       " <Element div at 0x1b15d95a270>,\n",
       " <Element div at 0x1b15d95a680>,\n",
       " <Element p at 0x1b15d918d60>,\n",
       " <Element div at 0x1b15d95a6d0>,\n",
       " <Element p at 0x1b15d918db0>]"
      ]
     },
     "execution_count": 12,
     "metadata": {},
     "output_type": "execute_result"
    }
   ],
   "source": [
    "simple_tree.xpath('//div/*')"
   ]
  },
  {
   "cell_type": "code",
   "execution_count": 13,
   "metadata": {},
   "outputs": [
    {
     "data": {
      "text/plain": [
       "['\\n',\n",
       " '\\n',\n",
       " '\\nHeader\\n',\n",
       " '\\n',\n",
       " '\\n',\n",
       " '\\n',\n",
       " '\\n',\n",
       " '\\n',\n",
       " '\\n',\n",
       " '\\n',\n",
       " '\\n',\n",
       " '\\n',\n",
       " '\\n',\n",
       " '\\n',\n",
       " '\\n',\n",
       " '\\n',\n",
       " '\\n',\n",
       " '\\n',\n",
       " '\\n',\n",
       " '\\n',\n",
       " '\\n\\n']"
      ]
     },
     "execution_count": 13,
     "metadata": {},
     "output_type": "execute_result"
    }
   ],
   "source": [
    "simple_tree.xpath('//div/text()')"
   ]
  },
  {
   "cell_type": "code",
   "execution_count": 14,
   "metadata": {},
   "outputs": [
    {
     "data": {
      "text/plain": [
       "['\\n',\n",
       " <Element div at 0x1b15d7e1ae0>,\n",
       " '\\n',\n",
       " <Element div at 0x1b15d95a040>,\n",
       " '\\nHeader\\n',\n",
       " '\\n',\n",
       " <Element div at 0x1b15d95a220>,\n",
       " '\\n',\n",
       " <Element div at 0x1b15d95a540>,\n",
       " '\\n',\n",
       " <Element ul at 0x1b15d95a590>,\n",
       " '\\n',\n",
       " '\\n',\n",
       " <Element div at 0x1b15d95a5e0>,\n",
       " '\\n',\n",
       " <Element ul at 0x1b15d95a630>,\n",
       " '\\n',\n",
       " '\\n',\n",
       " '\\n',\n",
       " <Element div at 0x1b15d95a270>,\n",
       " '\\n',\n",
       " <Element div at 0x1b15d95a680>,\n",
       " '\\n',\n",
       " <Element p at 0x1b15d918d60>,\n",
       " '\\n',\n",
       " '\\n',\n",
       " <Element div at 0x1b15d95a6d0>,\n",
       " '\\n',\n",
       " <Element p at 0x1b15d918db0>,\n",
       " '\\n',\n",
       " '\\n',\n",
       " '\\n',\n",
       " '\\n\\n']"
      ]
     },
     "execution_count": 14,
     "metadata": {},
     "output_type": "execute_result"
    }
   ],
   "source": [
    "simple_tree.xpath('//div/node()')"
   ]
  },
  {
   "cell_type": "markdown",
   "metadata": {},
   "source": [
    "##### Can you show all of the text that are in lists on the page?"
   ]
  },
  {
   "cell_type": "code",
   "execution_count": 17,
   "metadata": {},
   "outputs": [
    {
     "data": {
      "text/plain": [
       "['Foo', 'Bar', 'Boo', 'Far']"
      ]
     },
     "execution_count": 17,
     "metadata": {},
     "output_type": "execute_result"
    }
   ],
   "source": [
    "simple_tree.xpath(\"//li/text()\")"
   ]
  },
  {
   "cell_type": "markdown",
   "metadata": {},
   "source": [
    "##### Can you find all of the attributes on the page?"
   ]
  },
  {
   "cell_type": "code",
   "execution_count": 19,
   "metadata": {},
   "outputs": [
    {
     "data": {
      "text/plain": [
       "['http://www.w3.org/1999/xhtml',\n",
       " 'en',\n",
       " 'en',\n",
       " 'container',\n",
       " 'content',\n",
       " 'clearfix',\n",
       " 'header',\n",
       " 'nav',\n",
       " 'navblock',\n",
       " 'navblock',\n",
       " 'maincontent',\n",
       " 'contentblock',\n",
       " 'contentblock']"
      ]
     },
     "execution_count": 19,
     "metadata": {},
     "output_type": "execute_result"
    }
   ],
   "source": [
    "simple_tree.xpath(\"//@*\")"
   ]
  },
  {
   "cell_type": "markdown",
   "metadata": {},
   "source": [
    "##### Can you find all of the links on the page?"
   ]
  },
  {
   "cell_type": "code",
   "execution_count": 28,
   "metadata": {},
   "outputs": [
    {
     "data": {
      "text/plain": [
       "[]"
      ]
     },
     "execution_count": 28,
     "metadata": {},
     "output_type": "execute_result"
    }
   ],
   "source": [
    "simple_tree.xpath(\"//@a\")"
   ]
  },
  {
   "cell_type": "markdown",
   "metadata": {},
   "source": [
    "##### Can you get to the style sheet information?"
   ]
  },
  {
   "cell_type": "code",
   "execution_count": 29,
   "metadata": {},
   "outputs": [
    {
     "data": {
      "text/plain": [
       "[<Element style at 0x1b15da0f400>, <Element style at 0x1b15da0f450>]"
      ]
     },
     "execution_count": 29,
     "metadata": {},
     "output_type": "execute_result"
    }
   ],
   "source": [
    "simple_tree.xpath(\"//style\")"
   ]
  },
  {
   "cell_type": "code",
   "execution_count": 30,
   "metadata": {},
   "outputs": [
    {
     "data": {
      "text/plain": [
       "[<Element style at 0x1b15da0f400>]"
      ]
     },
     "execution_count": 30,
     "metadata": {},
     "output_type": "execute_result"
    }
   ],
   "source": [
    "# OR\n",
    "simple_tree.xpath(\"//head/style\")"
   ]
  },
  {
   "cell_type": "code",
   "execution_count": 31,
   "metadata": {},
   "outputs": [
    {
     "data": {
      "text/plain": [
       "[]"
      ]
     },
     "execution_count": 31,
     "metadata": {},
     "output_type": "execute_result"
    }
   ],
   "source": [
    "# OR\n",
    "simple_tree.xpath(\"//body/style\")"
   ]
  },
  {
   "cell_type": "markdown",
   "metadata": {},
   "source": [
    "##### `//elem[@attr=\"foo\"]` will match elememts where that attribute is equal to foo. Find just the divs that have the class \"contentblock\"."
   ]
  },
  {
   "cell_type": "code",
   "execution_count": 36,
   "metadata": {},
   "outputs": [
    {
     "data": {
      "text/plain": [
       "[<Element div at 0x1b15d95a680>, <Element div at 0x1b15d95a6d0>]"
      ]
     },
     "execution_count": 36,
     "metadata": {},
     "output_type": "execute_result"
    }
   ],
   "source": [
    "simple_tree.xpath('//div[@class=\"contentblock\"]')"
   ]
  },
  {
   "cell_type": "code",
   "execution_count": 40,
   "metadata": {},
   "outputs": [
    {
     "data": {
      "text/plain": [
       "[<Element div at 0x1b15d95a680>, <Element div at 0x1b15d95a6d0>]"
      ]
     },
     "execution_count": 40,
     "metadata": {},
     "output_type": "execute_result"
    }
   ],
   "source": [
    "simple_tree.xpath('//div[contains(@class, \"contentblock\")]')"
   ]
  },
  {
   "cell_type": "markdown",
   "metadata": {},
   "source": [
    "##### Try the above without `[]` and using `/` to get the `@attr`. What kind of responsse do you get?"
   ]
  },
  {
   "cell_type": "code",
   "execution_count": 44,
   "metadata": {},
   "outputs": [
    {
     "data": {
      "text/plain": [
       "True"
      ]
     },
     "execution_count": 44,
     "metadata": {},
     "output_type": "execute_result"
    }
   ],
   "source": [
    "simple_tree.xpath('//div/@class=\"contentblock\"')"
   ]
  },
  {
   "cell_type": "code",
   "execution_count": null,
   "metadata": {},
   "outputs": [],
   "source": []
  }
 ],
 "metadata": {
  "kernelspec": {
   "display_name": "Python 3",
   "language": "python",
   "name": "python3"
  },
  "language_info": {
   "codemirror_mode": {
    "name": "ipython",
    "version": 3
   },
   "file_extension": ".py",
   "mimetype": "text/x-python",
   "name": "python",
   "nbconvert_exporter": "python",
   "pygments_lexer": "ipython3",
   "version": "3.8.4"
  }
 },
 "nbformat": 4,
 "nbformat_minor": 4
}

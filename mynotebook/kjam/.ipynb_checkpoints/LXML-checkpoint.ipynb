{
 "cells": [
  {
   "cell_type": "markdown",
   "metadata": {},
   "source": [
    "# Introduction"
   ]
  },
  {
   "cell_type": "markdown",
   "metadata": {},
   "source": [
    "`cssselect('div.content')` : Find all div elements that have the class attribute \"content\".\n",
    "\n",
    "`find_class('nav')` : find all the elements with class or find an element within this element that matches this class.\n",
    "\n",
    "`text_content()` : text within this element and its descendants.\n",
    "\n",
    "`clean_html()` : try to fix errors in the formatting of a webpage."
   ]
  },
  {
   "cell_type": "code",
   "execution_count": 1,
   "metadata": {},
   "outputs": [],
   "source": [
    "from lxml import html\n",
    "from urllib.request import urlopen"
   ]
  },
  {
   "cell_type": "code",
   "execution_count": 2,
   "metadata": {},
   "outputs": [],
   "source": [
    "source = urlopen(\"http://www.google.com\").read()"
   ]
  },
  {
   "cell_type": "code",
   "execution_count": 3,
   "metadata": {},
   "outputs": [],
   "source": [
    "tree = html.document_fromstring(source)"
   ]
  },
  {
   "cell_type": "code",
   "execution_count": 4,
   "metadata": {},
   "outputs": [],
   "source": [
    "tree?"
   ]
  },
  {
   "cell_type": "markdown",
   "metadata": {},
   "source": [
    "`(elem).iter_links()` : This is an iterator that will find all descendant links and return them as structured tuples.\n",
    "\n",
    "`get` : same functionality as BS (to get attributes).\n",
    "    \n",
    "`iterdescendants()` : An iterator that will find all descendants.\n",
    "    \n",
    "`(elem).attrib` : list the kety, value pair of the elements attributes."
   ]
  },
  {
   "cell_type": "code",
   "execution_count": 5,
   "metadata": {},
   "outputs": [
    {
     "data": {
      "text/plain": [
       "[]"
      ]
     },
     "execution_count": 5,
     "metadata": {},
     "output_type": "execute_result"
    }
   ],
   "source": [
    "tree.cssselect(\"p.calendar_EventTitle\")"
   ]
  },
  {
   "cell_type": "code",
   "execution_count": 8,
   "metadata": {},
   "outputs": [
    {
     "data": {
      "text/plain": [
       "<generator object HtmlMixin.iterlinks at 0x0000021437200660>"
      ]
     },
     "execution_count": 8,
     "metadata": {},
     "output_type": "execute_result"
    }
   ],
   "source": [
    "tree.iterlinks()"
   ]
  },
  {
   "cell_type": "code",
   "execution_count": 10,
   "metadata": {},
   "outputs": [
    {
     "data": {
      "text/plain": [
       "[(<Element style at 0x21434122540>, None, '/images/nav_logo229.png', 847),\n",
       " (<Element a at 0x21437206ea0>,\n",
       "  'href',\n",
       "  'http://www.google.co.in/imghp?hl=en&tab=wi',\n",
       "  0),\n",
       " (<Element a at 0x21437206f40>,\n",
       "  'href',\n",
       "  'http://maps.google.co.in/maps?hl=en&tab=wl',\n",
       "  0),\n",
       " (<Element a at 0x21437206a40>,\n",
       "  'href',\n",
       "  'https://play.google.com/?hl=en&tab=w8',\n",
       "  0),\n",
       " (<Element a at 0x2143424a4f0>,\n",
       "  'href',\n",
       "  'http://www.youtube.com/?gl=IN&tab=w1',\n",
       "  0),\n",
       " (<Element a at 0x2143424a680>, 'href', 'https://news.google.com/?tab=wn', 0),\n",
       " (<Element a at 0x2143424a810>,\n",
       "  'href',\n",
       "  'https://mail.google.com/mail/?tab=wm',\n",
       "  0),\n",
       " (<Element a at 0x2143424a590>, 'href', 'https://drive.google.com/?tab=wo', 0),\n",
       " (<Element a at 0x2143424a770>,\n",
       "  'href',\n",
       "  'https://www.google.co.in/intl/en/about/products?tab=wh',\n",
       "  0),\n",
       " (<Element a at 0x2143424a9a0>,\n",
       "  'href',\n",
       "  'http://www.google.co.in/history/optout?hl=en',\n",
       "  0),\n",
       " (<Element a at 0x2143424a540>, 'href', '/preferences?hl=en', 0),\n",
       " (<Element a at 0x2143424a950>,\n",
       "  'href',\n",
       "  'https://accounts.google.com/ServiceLogin?hl=en&passive=true&continue=http://www.google.com/&ec=GAZAAQ',\n",
       "  0),\n",
       " (<Element img at 0x21437209130>,\n",
       "  'src',\n",
       "  '/images/branding/googlelogo/1x/googlelogo_white_background_color_272x92dp.png',\n",
       "  0),\n",
       " (<Element form at 0x21437209180>, 'action', '/search', 0),\n",
       " (<Element a at 0x21437209040>,\n",
       "  'href',\n",
       "  '/advanced_search?hl=en-IN&authuser=0',\n",
       "  0),\n",
       " (<Element a at 0x21437209220>,\n",
       "  'href',\n",
       "  'http://www.google.com/setprefs?sig=0_3nXpbf3fTpku6RQSDuYJ3Ir5X6A%3D&hl=hi&source=homepage&sa=X&ved=0ahUKEwi50a2Vi8DsAhWjyDgGHeQBCl8Q2ZgBCAU',\n",
       "  0),\n",
       " (<Element a at 0x21437209090>,\n",
       "  'href',\n",
       "  'http://www.google.com/setprefs?sig=0_3nXpbf3fTpku6RQSDuYJ3Ir5X6A%3D&hl=bn&source=homepage&sa=X&ved=0ahUKEwi50a2Vi8DsAhWjyDgGHeQBCl8Q2ZgBCAY',\n",
       "  0),\n",
       " (<Element a at 0x214372091d0>,\n",
       "  'href',\n",
       "  'http://www.google.com/setprefs?sig=0_3nXpbf3fTpku6RQSDuYJ3Ir5X6A%3D&hl=te&source=homepage&sa=X&ved=0ahUKEwi50a2Vi8DsAhWjyDgGHeQBCl8Q2ZgBCAc',\n",
       "  0),\n",
       " (<Element a at 0x21437209270>,\n",
       "  'href',\n",
       "  'http://www.google.com/setprefs?sig=0_3nXpbf3fTpku6RQSDuYJ3Ir5X6A%3D&hl=mr&source=homepage&sa=X&ved=0ahUKEwi50a2Vi8DsAhWjyDgGHeQBCl8Q2ZgBCAg',\n",
       "  0),\n",
       " (<Element a at 0x214372092c0>,\n",
       "  'href',\n",
       "  'http://www.google.com/setprefs?sig=0_3nXpbf3fTpku6RQSDuYJ3Ir5X6A%3D&hl=ta&source=homepage&sa=X&ved=0ahUKEwi50a2Vi8DsAhWjyDgGHeQBCl8Q2ZgBCAk',\n",
       "  0),\n",
       " (<Element a at 0x21437209310>,\n",
       "  'href',\n",
       "  'http://www.google.com/setprefs?sig=0_3nXpbf3fTpku6RQSDuYJ3Ir5X6A%3D&hl=gu&source=homepage&sa=X&ved=0ahUKEwi50a2Vi8DsAhWjyDgGHeQBCl8Q2ZgBCAo',\n",
       "  0),\n",
       " (<Element a at 0x21437209360>,\n",
       "  'href',\n",
       "  'http://www.google.com/setprefs?sig=0_3nXpbf3fTpku6RQSDuYJ3Ir5X6A%3D&hl=kn&source=homepage&sa=X&ved=0ahUKEwi50a2Vi8DsAhWjyDgGHeQBCl8Q2ZgBCAs',\n",
       "  0),\n",
       " (<Element a at 0x214372093b0>,\n",
       "  'href',\n",
       "  'http://www.google.com/setprefs?sig=0_3nXpbf3fTpku6RQSDuYJ3Ir5X6A%3D&hl=ml&source=homepage&sa=X&ved=0ahUKEwi50a2Vi8DsAhWjyDgGHeQBCl8Q2ZgBCAw',\n",
       "  0),\n",
       " (<Element a at 0x21437209400>,\n",
       "  'href',\n",
       "  'http://www.google.com/setprefs?sig=0_3nXpbf3fTpku6RQSDuYJ3Ir5X6A%3D&hl=pa&source=homepage&sa=X&ved=0ahUKEwi50a2Vi8DsAhWjyDgGHeQBCl8Q2ZgBCA0',\n",
       "  0),\n",
       " (<Element a at 0x21437209450>, 'href', '/intl/en/ads/', 0),\n",
       " (<Element a at 0x214372094a0>,\n",
       "  'href',\n",
       "  'http://www.google.co.in/services/',\n",
       "  0),\n",
       " (<Element a at 0x214372094f0>, 'href', '/intl/en/about.html', 0),\n",
       " (<Element a at 0x21437209540>,\n",
       "  'href',\n",
       "  'http://www.google.com/setprefdomain?prefdom=IN&prev=http://www.google.co.in/&sig=K_mtn20lHJJz-opd_H-UwdMHTtgZE%3D',\n",
       "  0),\n",
       " (<Element a at 0x21437209630>, 'href', '/intl/en/policies/privacy/', 0),\n",
       " (<Element a at 0x21437209680>, 'href', '/intl/en/policies/terms/', 0)]"
      ]
     },
     "execution_count": 10,
     "metadata": {},
     "output_type": "execute_result"
    }
   ],
   "source": [
    "[l for l in tree.iterlinks()]"
   ]
  },
  {
   "cell_type": "code",
   "execution_count": 19,
   "metadata": {},
   "outputs": [
    {
     "name": "stdout",
     "output_type": "stream",
     "text": [
      "/images/nav_logo229.png\n",
      "http://www.google.co.in/imghp?hl=en&tab=wi\n",
      "http://maps.google.co.in/maps?hl=en&tab=wl\n",
      "https://play.google.com/?hl=en&tab=w8\n",
      "http://www.youtube.com/?gl=IN&tab=w1\n",
      "https://news.google.com/?tab=wn\n",
      "https://mail.google.com/mail/?tab=wm\n",
      "https://drive.google.com/?tab=wo\n",
      "https://www.google.co.in/intl/en/about/products?tab=wh\n",
      "http://www.google.co.in/history/optout?hl=en\n",
      "/preferences?hl=en\n",
      "https://accounts.google.com/ServiceLogin?hl=en&passive=true&continue=http://www.google.com/&ec=GAZAAQ\n",
      "/images/branding/googlelogo/1x/googlelogo_white_background_color_272x92dp.png\n",
      "/search\n",
      "/advanced_search?hl=en-IN&authuser=0\n",
      "http://www.google.com/setprefs?sig=0_3nXpbf3fTpku6RQSDuYJ3Ir5X6A%3D&hl=hi&source=homepage&sa=X&ved=0ahUKEwi50a2Vi8DsAhWjyDgGHeQBCl8Q2ZgBCAU\n",
      "http://www.google.com/setprefs?sig=0_3nXpbf3fTpku6RQSDuYJ3Ir5X6A%3D&hl=bn&source=homepage&sa=X&ved=0ahUKEwi50a2Vi8DsAhWjyDgGHeQBCl8Q2ZgBCAY\n",
      "http://www.google.com/setprefs?sig=0_3nXpbf3fTpku6RQSDuYJ3Ir5X6A%3D&hl=te&source=homepage&sa=X&ved=0ahUKEwi50a2Vi8DsAhWjyDgGHeQBCl8Q2ZgBCAc\n",
      "http://www.google.com/setprefs?sig=0_3nXpbf3fTpku6RQSDuYJ3Ir5X6A%3D&hl=mr&source=homepage&sa=X&ved=0ahUKEwi50a2Vi8DsAhWjyDgGHeQBCl8Q2ZgBCAg\n",
      "http://www.google.com/setprefs?sig=0_3nXpbf3fTpku6RQSDuYJ3Ir5X6A%3D&hl=ta&source=homepage&sa=X&ved=0ahUKEwi50a2Vi8DsAhWjyDgGHeQBCl8Q2ZgBCAk\n",
      "http://www.google.com/setprefs?sig=0_3nXpbf3fTpku6RQSDuYJ3Ir5X6A%3D&hl=gu&source=homepage&sa=X&ved=0ahUKEwi50a2Vi8DsAhWjyDgGHeQBCl8Q2ZgBCAo\n",
      "http://www.google.com/setprefs?sig=0_3nXpbf3fTpku6RQSDuYJ3Ir5X6A%3D&hl=kn&source=homepage&sa=X&ved=0ahUKEwi50a2Vi8DsAhWjyDgGHeQBCl8Q2ZgBCAs\n",
      "http://www.google.com/setprefs?sig=0_3nXpbf3fTpku6RQSDuYJ3Ir5X6A%3D&hl=ml&source=homepage&sa=X&ved=0ahUKEwi50a2Vi8DsAhWjyDgGHeQBCl8Q2ZgBCAw\n",
      "http://www.google.com/setprefs?sig=0_3nXpbf3fTpku6RQSDuYJ3Ir5X6A%3D&hl=pa&source=homepage&sa=X&ved=0ahUKEwi50a2Vi8DsAhWjyDgGHeQBCl8Q2ZgBCA0\n",
      "/intl/en/ads/\n",
      "http://www.google.co.in/services/\n",
      "/intl/en/about.html\n",
      "http://www.google.com/setprefdomain?prefdom=IN&prev=http://www.google.co.in/&sig=K_mtn20lHJJz-opd_H-UwdMHTtgZE%3D\n",
      "/intl/en/policies/privacy/\n",
      "/intl/en/policies/terms/\n"
     ]
    }
   ],
   "source": [
    "links = [l for l in tree.iterlinks()]\n",
    "for i in range(len(links)):\n",
    "    print(links[i][2])"
   ]
  },
  {
   "cell_type": "code",
   "execution_count": 29,
   "metadata": {},
   "outputs": [
    {
     "data": {
      "text/plain": [
       "{'class': 'gb1', 'href': 'http://maps.google.co.in/maps?hl=en&tab=wl'}"
      ]
     },
     "execution_count": 29,
     "metadata": {},
     "output_type": "execute_result"
    }
   ],
   "source": [
    "tree.cssselect(\"a\")[1].attrib"
   ]
  },
  {
   "cell_type": "code",
   "execution_count": 31,
   "metadata": {},
   "outputs": [
    {
     "data": {
      "text/plain": [
       "<Element html at 0x214363efa40>"
      ]
     },
     "execution_count": 31,
     "metadata": {},
     "output_type": "execute_result"
    }
   ],
   "source": [
    "source = urlopen(\"http://www.python.org\").read()\n",
    "tree = html.document_fromstring(source)\n",
    "tree"
   ]
  },
  {
   "cell_type": "markdown",
   "metadata": {},
   "source": [
    "##### How many paragraphs are there on the page?"
   ]
  },
  {
   "cell_type": "code",
   "execution_count": 40,
   "metadata": {},
   "outputs": [
    {
     "data": {
      "text/plain": [
       "23"
      ]
     },
     "execution_count": 40,
     "metadata": {},
     "output_type": "execute_result"
    }
   ],
   "source": [
    "len(tree.cssselect(\"p\"))"
   ]
  },
  {
   "cell_type": "markdown",
   "metadata": {},
   "source": [
    "##### What is the text content of the div with the class \"shrubbery\"? What are the links in that same div?"
   ]
  },
  {
   "cell_type": "code",
   "execution_count": 49,
   "metadata": {},
   "outputs": [
    {
     "name": "stdout",
     "output_type": "stream",
     "text": [
      "\n",
      "                        \n",
      "                            Latest News\n",
      "                            More\n",
      "                            \n",
      "                            \n",
      "                                \n",
      "                                \n",
      "                                \n",
      "2020-10-05\n",
      " Python 3.9.0 is now available, and you can already test 3.10.0a1!\n",
      "                                \n",
      "                                \n",
      "2020-10-02\n",
      " Python 3.5 is no longer supported\n",
      "                                \n",
      "                                \n",
      "2020-10-02\n",
      " Join the Python Developers Survey 2020: Share and learn about the community\n",
      "                                \n",
      "                                \n",
      "2020-09-24\n",
      " Python 3.8.6 is now available\n",
      "                                \n",
      "                                \n",
      "2020-09-22\n",
      " The Python Software Foundation re-opens its Grants Program!\n",
      "                                \n",
      "                            \n",
      "                        \n",
      "\n",
      "                        \n",
      "                            Upcoming Events\n",
      "                            More\n",
      "                            \n",
      "                            \n",
      "                                \n",
      "                                \n",
      "                                \n",
      "                                \n",
      "2020-10-22\n",
      " PyATL and oso workshop on access control patterns in Python applications\n",
      "                                \n",
      "                                \n",
      "                                \n",
      "                                \n",
      "2020-10-23\n",
      " Swiss Python Summit (cancelled)\n",
      "                                \n",
      "                                \n",
      "                                \n",
      "                                \n",
      "2020-10-26\n",
      " PyCC Meetup'19 (Python Cape Coast User Group)\n",
      "                                \n",
      "                                \n",
      "                                \n",
      "                                \n",
      "2020-10-30\n",
      " PyData London 2020 (cancelled)\n",
      "                                \n",
      "                                \n",
      "                                \n",
      "                                \n",
      "2020-10-30\n",
      " SciPy Japan 2020\n",
      "                                \n",
      "                                \n",
      "                            \n",
      "                        \n",
      "\n",
      "                            \n",
      "\n",
      "                            Success Stories\n",
      "                            More\n",
      "\n",
      "                            \n",
      "                            \n",
      "\n",
      "                            \n",
      "                                Python and its broad variety of libraries are very well suited to develop customized machine learning tools which tackle the complex challenges posed by financial time series.\n",
      "                            \n",
      "\n",
      "                            \n",
      "                                \n",
      "                                    \n",
      "                                        \n",
      "                                        Python for Financial Machine Learning at Union Investment by Dr. Christian Mandery and Nikolas Gerlich\n",
      "                                    \n",
      "                                \n",
      "                            \n",
      "                            \n",
      "                            \n",
      "\n",
      "                        \n",
      "\n",
      "                            Use Python for…\r\n",
      "More\r\n",
      "\r\n",
      "\r\n",
      "    Web Development:\r\n",
      "        Django, Pyramid, Bottle, Tornado, Flask, web2py\r\n",
      "    GUI Development:\r\n",
      "        tkInter, PyGObject, PyQt, PySide, Kivy, wxPython\r\n",
      "    Scientific and Numeric:\r\n",
      "        \r\n",
      "SciPy, Pandas, IPython\r\n",
      "    Software Development:\r\n",
      "        Buildbot, Trac, Roundup\r\n",
      "    System Administration:\r\n",
      "        Ansible, Salt, OpenStack\r\n",
      "\r\n",
      "\n",
      "                        \n"
     ]
    }
   ],
   "source": [
    "for text in tree.cssselect(\"div.shrubbery\"):\n",
    "    print(text.text_content())"
   ]
  },
  {
   "cell_type": "markdown",
   "metadata": {},
   "source": [
    "##### What if we want all the anchor tags?"
   ]
  },
  {
   "cell_type": "code",
   "execution_count": 50,
   "metadata": {},
   "outputs": [
    {
     "name": "stdout",
     "output_type": "stream",
     "text": [
      "[(<Element link at 0x21436669270>, 'href', '//ajax.googleapis.com/ajax/libs/jquery/1.8.2/jquery.min.js', 0), (<Element script at 0x214366966d0>, 'src', '/static/js/libs/modernizr.js', 0), (<Element link at 0x214366695e0>, 'href', '/static/stylesheets/style.30afed881237.css', 0), (<Element link at 0x2143660c1d0>, 'href', '/static/stylesheets/mq.eef77a5d2257.css', 0), (<Element link at 0x21436647770>, 'href', '/static/favicon.ico', 0), (<Element link at 0x21436647e50>, 'href', '/static/apple-touch-icon-144x144-precomposed.png', 0), (<Element link at 0x21436647720>, 'href', '/static/apple-touch-icon-114x114-precomposed.png', 0), (<Element link at 0x214366479a0>, 'href', '/static/apple-touch-icon-72x72-precomposed.png', 0), (<Element link at 0x21436647a90>, 'href', '/static/apple-touch-icon-precomposed.png', 0), (<Element link at 0x21436647900>, 'href', '/static/apple-touch-icon-precomposed.png', 0), (<Element link at 0x21436647ea0>, 'href', '/static/humans.txt', 0), (<Element link at 0x214366472c0>, 'href', 'https://www.python.org/dev/peps/peps.rss/', 0), (<Element link at 0x214363efbd0>, 'href', 'https://www.python.org/jobs/feed/rss/', 0), (<Element link at 0x214363ef7c0>, 'href', 'https://feeds.feedburner.com/PythonSoftwareFoundationNews', 0), (<Element link at 0x214363eff90>, 'href', 'https://feeds.feedburner.com/PythonInsider', 0), (<Element a at 0x214363efb80>, 'href', '#content', 0), (<Element a at 0x214363efef0>, 'href', '#python-network', 0), (<Element a at 0x214363ef6d0>, 'href', '/', 0), (<Element a at 0x214363ef9f0>, 'href', '/psf-landing/', 0), (<Element a at 0x214363efd60>, 'href', 'https://docs.python.org', 0), (<Element a at 0x214366dce00>, 'href', 'https://pypi.org/', 0), (<Element a at 0x214366dcc20>, 'href', '/jobs/', 0), (<Element a at 0x214366dca40>, 'href', '/community-landing/', 0), (<Element a at 0x214366dcef0>, 'href', '#top', 0), (<Element a at 0x214366dcd60>, 'href', '/', 0), (<Element img at 0x214366dcd10>, 'src', '/static/img/python-logo.png', 0), (<Element a at 0x214366dcb30>, 'href', 'https://psfmember.org/civicrm/contribute/transact?reset=1&id=2', 0), (<Element a at 0x214366dccc0>, 'href', '#site-map', 0), (<Element form at 0x21436696b30>, 'action', '/search/', 0), (<Element a at 0x214366dc950>, 'href', '#', 0), (<Element a at 0x214366dc810>, 'href', 'javascript:;', 0), (<Element a at 0x214366dc9f0>, 'href', 'javascript:;', 0), (<Element a at 0x214366dc7c0>, 'href', 'javascript:;', 0), (<Element a at 0x214366dc680>, 'href', '#', 0), (<Element a at 0x214366dc540>, 'href', 'https://www.facebook.com/pythonlang?fref=ts', 0), (<Element a at 0x214366dc5e0>, 'href', 'https://twitter.com/ThePSF', 0), (<Element a at 0x214366dc400>, 'href', '/community/irc/', 0), (<Element a at 0x214366dc270>, 'href', '/about/', 0), (<Element a at 0x214366dc1d0>, 'href', '/about/apps/', 0), (<Element a at 0x214366dc360>, 'href', '/about/quotes/', 0), (<Element a at 0x214366dc860>, 'href', '/about/gettingstarted/', 0), (<Element a at 0x214366dcae0>, 'href', '/about/help/', 0), (<Element a at 0x214366dc220>, 'href', 'http://brochure.getpython.info/', 0), (<Element a at 0x214366dc4f0>, 'href', '/downloads/', 0), (<Element a at 0x214366dc180>, 'href', '/downloads/', 0), (<Element a at 0x214366dc770>, 'href', '/downloads/source/', 0), (<Element a at 0x214366dcf40>, 'href', '/downloads/windows/', 0), (<Element a at 0x214364c8900>, 'href', '/downloads/mac-osx/', 0), (<Element a at 0x214364c8630>, 'href', '/download/other/', 0), (<Element a at 0x214364c8e50>, 'href', 'https://docs.python.org/3/license.html', 0), (<Element a at 0x214364c8770>, 'href', '/download/alternatives', 0), (<Element a at 0x214364c8720>, 'href', '/doc/', 0), (<Element a at 0x214364c8b80>, 'href', '/doc/', 0), (<Element a at 0x214364c84a0>, 'href', '/doc/av', 0), (<Element a at 0x214364c8ae0>, 'href', 'https://wiki.python.org/moin/BeginnersGuide', 0), (<Element a at 0x214364c89f0>, 'href', 'https://devguide.python.org/', 0), (<Element a at 0x214364c86d0>, 'href', 'https://docs.python.org/faq/', 0), (<Element a at 0x214364c85e0>, 'href', 'http://wiki.python.org/moin/Languages', 0), (<Element a at 0x214364c80e0>, 'href', 'http://python.org/dev/peps/', 0), (<Element a at 0x214364c8db0>, 'href', 'https://wiki.python.org/moin/PythonBooks', 0), (<Element a at 0x214364c8a40>, 'href', '/doc/essays/', 0), (<Element a at 0x2143665f040>, 'href', '/community/', 0), (<Element a at 0x2143665f130>, 'href', '/community/survey', 0), (<Element a at 0x2143665f1d0>, 'href', '/community/diversity/', 0), (<Element a at 0x2143665f2c0>, 'href', '/community/lists/', 0), (<Element a at 0x2143665f3b0>, 'href', '/community/irc/', 0), (<Element a at 0x2143665f450>, 'href', '/community/forums/', 0), (<Element a at 0x2143665f540>, 'href', '/psf/annual-report/2020/', 0), (<Element a at 0x2143665f630>, 'href', '/community/workshops/', 0), (<Element a at 0x2143665f720>, 'href', '/community/sigs/', 0), (<Element a at 0x2143665f810>, 'href', '/community/logos/', 0), (<Element a at 0x2143665f900>, 'href', 'https://wiki.python.org/moin/', 0), (<Element a at 0x2143665f9f0>, 'href', '/community/merchandise/', 0), (<Element a at 0x2143665fae0>, 'href', '/community/awards', 0), (<Element a at 0x2143665fbd0>, 'href', '/psf/conduct/', 0), (<Element a at 0x2143665fc70>, 'href', '/psf/get-involved/', 0), (<Element a at 0x2143665fd60>, 'href', '/success-stories/', 0), (<Element a at 0x2143665fea0>, 'href', '/success-stories/category/arts/', 0), (<Element a at 0x2143665ff40>, 'href', '/success-stories/category/business/', 0), (<Element a at 0x2143633e040>, 'href', '/success-stories/category/education/', 0), (<Element a at 0x2143633e0e0>, 'href', '/success-stories/category/engineering/', 0), (<Element a at 0x2143633e180>, 'href', '/success-stories/category/government/', 0), (<Element a at 0x2143633e220>, 'href', '/success-stories/category/scientific/', 0), (<Element a at 0x2143633e2c0>, 'href', '/success-stories/category/software-development/', 0), (<Element a at 0x2143633e360>, 'href', '/blogs/', 0), (<Element a at 0x2143633e450>, 'href', '/blogs/', 0), (<Element a at 0x2143633e4a0>, 'href', '/psf/newsletter/', 0), (<Element a at 0x2143633e590>, 'href', 'http://planetpython.org/', 0), (<Element a at 0x2143633e680>, 'href', 'http://pyfound.blogspot.com/', 0), (<Element a at 0x2143633e770>, 'href', 'http://pycon.blogspot.com/', 0), (<Element a at 0x2143633e860>, 'href', '/events/', 0), (<Element a at 0x2143633e950>, 'href', '/events/python-events', 0), (<Element a at 0x2143633e9f0>, 'href', '/events/python-user-group/', 0), (<Element a at 0x2143633eae0>, 'href', '/events/python-events/past/', 0), (<Element a at 0x2143633ebd0>, 'href', '/events/python-user-group/past/', 0), (<Element a at 0x2143633ecc0>, 'href', 'https://wiki.python.org/moin/PythonEventsCalendar#Submitting_an_Event', 0), (<Element a at 0x2143633ed60>, 'href', '/shell/', 0), (<Element a at 0x2143633ee50>, 'href', '//docs.python.org/3/tutorial/controlflow.html#defining-functions', 0), (<Element a at 0x2143633eef0>, 'href', '//docs.python.org/3/tutorial/introduction.html#lists', 0), (<Element a at 0x2143633ef40>, 'href', 'http://docs.python.org/3/tutorial/introduction.html#using-python-as-a-calculator', 0), (<Element a at 0x21436304090>, 'href', '//docs.python.org/3/tutorial/', 0), (<Element a at 0x21436304130>, 'href', '//docs.python.org/3/tutorial/controlflow.html', 0), (<Element a at 0x21436304180>, 'href', '/doc/', 0), (<Element a at 0x21436304270>, 'href', 'https://surveys.jetbrains.com/s3/c8-python-developers-survey-2020', 0), (<Element a at 0x214363042c0>, 'href', '/about/gettingstarted/', 0), (<Element a at 0x21436304450>, 'href', '/downloads/release/python-390/', 0), (<Element a at 0x21436304540>, 'href', 'https://docs.python.org', 0), (<Element a at 0x21436304630>, 'href', '//jobs.python.org', 0), (<Element a at 0x214363045e0>, 'href', 'https://blog.python.org', 0), (<Element a at 0x214363047c0>, 'href', 'http://feedproxy.google.com/~r/PythonInsider/~3/x_KphpL1EaI/python-390-is-now-available-and-you-can.html', 0), (<Element a at 0x21436304810>, 'href', 'http://feedproxy.google.com/~r/PythonInsider/~3/9YDLIBncL3E/python-35-is-no-longer-supported.html', 0), (<Element a at 0x21436304860>, 'href', 'http://feedproxy.google.com/~r/PythonSoftwareFoundationNews/~3/4l7Ayj1RE2Q/join-python-developers-survey-2020.html', 0), (<Element a at 0x21436304900>, 'href', 'http://feedproxy.google.com/~r/PythonInsider/~3/1uMoG-StrAE/python-386-is-now-available.html', 0), (<Element a at 0x214363049a0>, 'href', 'http://feedproxy.google.com/~r/PythonSoftwareFoundationNews/~3/15M3ter9aRE/the-python-software-foundation-re-opens.html', 0), (<Element a at 0x21436304ae0>, 'href', '/events/calendars/', 0), (<Element a at 0x21436304bd0>, 'href', '/events/python-user-group/988/', 0), (<Element a at 0x21436304c20>, 'href', '/events/python-events/897/', 0), (<Element a at 0x21436304cc0>, 'href', '/events/python-user-group/874/', 0), (<Element a at 0x21436304db0>, 'href', '/events/python-events/954/', 0), (<Element a at 0x21436304ea0>, 'href', '/events/python-events/973/', 0), (<Element a at 0x21436304f90>, 'href', '/success-stories/', 0), (<Element a at 0x214367a5220>, 'href', '/success-stories/python-for-financial-machine-learning-at-union-investment/', 0), (<Element a at 0x214367a52c0>, 'href', '/success-stories/python-for-financial-machine-learning-at-union-investment/', 0), (<Element a at 0x214367a50e0>, 'href', '/about/apps', 0), (<Element a at 0x214367a53b0>, 'href', 'http://www.djangoproject.com/', 0), (<Element a at 0x214367a5400>, 'href', 'http://www.pylonsproject.org/', 0), (<Element a at 0x214367a54a0>, 'href', 'http://bottlepy.org', 0), (<Element a at 0x214367a5590>, 'href', 'http://tornadoweb.org', 0), (<Element a at 0x214367a5680>, 'href', 'http://flask.pocoo.org/', 0), (<Element a at 0x214367a5770>, 'href', 'http://www.web2py.com/', 0), (<Element a at 0x214367a5860>, 'href', 'http://wiki.python.org/moin/TkInter', 0), (<Element a at 0x214367a5950>, 'href', 'https://wiki.gnome.org/Projects/PyGObject', 0), (<Element a at 0x214367a59f0>, 'href', 'http://www.riverbankcomputing.co.uk/software/pyqt/intro', 0), (<Element a at 0x214367a5a90>, 'href', 'https://wiki.qt.io/PySide', 0), (<Element a at 0x214367a5b30>, 'href', 'https://kivy.org/', 0), (<Element a at 0x214367a5c20>, 'href', 'http://www.wxpython.org/', 0), (<Element a at 0x214367a5d10>, 'href', 'http://www.scipy.org', 0), (<Element a at 0x214367a5e00>, 'href', 'http://pandas.pydata.org/', 0), (<Element a at 0x214367a5ef0>, 'href', 'http://ipython.org', 0), (<Element a at 0x214367abae0>, 'href', 'http://buildbot.net/', 0), (<Element a at 0x214367abb80>, 'href', 'http://trac.edgewall.org/', 0), (<Element a at 0x214367ab6d0>, 'href', 'http://roundup.sourceforge.net/', 0), (<Element a at 0x214367ab400>, 'href', 'http://www.ansible.com', 0), (<Element a at 0x214367ab1d0>, 'href', 'http://www.saltstack.com', 0), (<Element a at 0x214367ab630>, 'href', 'https://www.openstack.org', 0), (<Element a at 0x214367ab310>, 'href', '/dev/peps/', 0), (<Element a at 0x214367ab270>, 'href', '/dev/peps/peps.rss', 0), (<Element a at 0x214367ab590>, 'href', '/psf/', 0), (<Element a at 0x214367ab040>, 'href', '/psf/', 0), (<Element a at 0x214367ab680>, 'href', '/users/membership/', 0), (<Element a at 0x214367ab770>, 'href', '/psf/donations/', 0), (<Element a at 0x214367ab8b0>, 'href', '#python-network', 0), (<Element a at 0x214367aba90>, 'href', '/about/', 0), (<Element a at 0x214367abcc0>, 'href', '/about/apps/', 0), (<Element a at 0x214367abd10>, 'href', '/about/quotes/', 0), (<Element a at 0x214367abdb0>, 'href', '/about/gettingstarted/', 0), (<Element a at 0x214367abea0>, 'href', '/about/help/', 0), (<Element a at 0x214367abf40>, 'href', 'http://brochure.getpython.info/', 0), (<Element a at 0x214367b7090>, 'href', '/downloads/', 0), (<Element a at 0x214367b7180>, 'href', '/downloads/', 0), (<Element a at 0x214367b71d0>, 'href', '/downloads/source/', 0), (<Element a at 0x214367b72c0>, 'href', '/downloads/windows/', 0), (<Element a at 0x214367b73b0>, 'href', '/downloads/mac-osx/', 0), (<Element a at 0x214367b74a0>, 'href', '/download/other/', 0), (<Element a at 0x214367b7590>, 'href', 'https://docs.python.org/3/license.html', 0), (<Element a at 0x214367b7630>, 'href', '/download/alternatives', 0), (<Element a at 0x214367b7720>, 'href', '/doc/', 0), (<Element a at 0x214367b7810>, 'href', '/doc/', 0), (<Element a at 0x214367b7860>, 'href', '/doc/av', 0), (<Element a at 0x214367b7900>, 'href', 'https://wiki.python.org/moin/BeginnersGuide', 0), (<Element a at 0x214367b79a0>, 'href', 'https://devguide.python.org/', 0), (<Element a at 0x214367b7a90>, 'href', 'https://docs.python.org/faq/', 0), (<Element a at 0x214367b7b80>, 'href', 'http://wiki.python.org/moin/Languages', 0), (<Element a at 0x214367b7c20>, 'href', 'http://python.org/dev/peps/', 0), (<Element a at 0x214367b7d10>, 'href', 'https://wiki.python.org/moin/PythonBooks', 0), (<Element a at 0x214367b7db0>, 'href', '/doc/essays/', 0), (<Element a at 0x214367b7e50>, 'href', '/community/', 0), (<Element a at 0x214367b7f40>, 'href', '/community/survey', 0), (<Element a at 0x2143660a040>, 'href', '/community/diversity/', 0), (<Element a at 0x2143660a130>, 'href', '/community/lists/', 0), (<Element a at 0x2143660a220>, 'href', '/community/irc/', 0), (<Element a at 0x2143660a2c0>, 'href', '/community/forums/', 0), (<Element a at 0x2143660a3b0>, 'href', '/psf/annual-report/2020/', 0), (<Element a at 0x2143660a4a0>, 'href', '/community/workshops/', 0), (<Element a at 0x2143660a590>, 'href', '/community/sigs/', 0), (<Element a at 0x2143660a680>, 'href', '/community/logos/', 0), (<Element a at 0x2143660a770>, 'href', 'https://wiki.python.org/moin/', 0), (<Element a at 0x2143660a860>, 'href', '/community/merchandise/', 0), (<Element a at 0x2143660a950>, 'href', '/community/awards', 0), (<Element a at 0x2143660aa40>, 'href', '/psf/conduct/', 0), (<Element a at 0x2143660aae0>, 'href', '/psf/get-involved/', 0), (<Element a at 0x2143660abd0>, 'href', '/success-stories/', 0), (<Element a at 0x2143660ad10>, 'href', '/success-stories/category/arts/', 0), (<Element a at 0x2143660adb0>, 'href', '/success-stories/category/business/', 0), (<Element a at 0x2143660ae50>, 'href', '/success-stories/category/education/', 0), (<Element a at 0x2143660aef0>, 'href', '/success-stories/category/engineering/', 0), (<Element a at 0x2143660af90>, 'href', '/success-stories/category/government/', 0), (<Element a at 0x21436632090>, 'href', '/success-stories/category/scientific/', 0), (<Element a at 0x21436632130>, 'href', '/success-stories/category/software-development/', 0), (<Element a at 0x214366321d0>, 'href', '/blogs/', 0), (<Element a at 0x214366322c0>, 'href', '/blogs/', 0), (<Element a at 0x21436632310>, 'href', '/psf/newsletter/', 0), (<Element a at 0x21436632400>, 'href', 'http://planetpython.org/', 0), (<Element a at 0x214366324f0>, 'href', 'http://pyfound.blogspot.com/', 0), (<Element a at 0x214366325e0>, 'href', 'http://pycon.blogspot.com/', 0), (<Element a at 0x214366326d0>, 'href', '/events/', 0), (<Element a at 0x214366327c0>, 'href', '/events/python-events', 0), (<Element a at 0x21436632860>, 'href', '/events/python-user-group/', 0), (<Element a at 0x21436632950>, 'href', '/events/python-events/past/', 0), (<Element a at 0x21436632a40>, 'href', '/events/python-user-group/past/', 0), (<Element a at 0x21436632b30>, 'href', 'https://wiki.python.org/moin/PythonEventsCalendar#Submitting_an_Event', 0), (<Element a at 0x21436632bd0>, 'href', '/dev/', 0), (<Element a at 0x21436632cc0>, 'href', 'https://devguide.python.org/', 0), (<Element a at 0x21436632d60>, 'href', 'https://bugs.python.org/', 0), (<Element a at 0x21436632e50>, 'href', 'https://mail.python.org/mailman/listinfo/python-dev', 0), (<Element a at 0x21436632ef0>, 'href', '/dev/core-mentorship/', 0), (<Element a at 0x21436638040>, 'href', '/dev/security/', 0), (<Element a at 0x21436638090>, 'href', '#python-network', 0), (<Element a at 0x214366380e0>, 'href', '/about/help/', 0), (<Element a at 0x21436638270>, 'href', '/community/diversity/', 0), (<Element a at 0x21436638360>, 'href', 'https://github.com/python/pythondotorg/issues', 0), (<Element a at 0x214366383b0>, 'href', 'https://status.python.org/', 0), (<Element a at 0x21436638400>, 'href', '/psf-landing/', 0), (<Element a at 0x21436638540>, 'href', '/about/legal/', 0), (<Element a at 0x214366385e0>, 'href', '/privacy/', 0), (<Element a at 0x21436638680>, 'href', '/psf/sponsorship/sponsors/#heroku', 0), (<Element script at 0x214366386d0>, 'src', '//ajax.googleapis.com/ajax/libs/jquery/1.8.2/jquery.min.js', 0), (<Element script at 0x214366387c0>, 'src', '/static/js/libs/masonry.pkgd.min.js', 0), (<Element script at 0x21436638810>, 'src', '/static/js/libs/html-includes.js', 0), (<Element script at 0x21436638860>, 'src', '/static/js/main-min.54f74dc425e5.js', 0)]\n",
      "[(<Element link at 0x21436669270>, 'href', '//ajax.googleapis.com/ajax/libs/jquery/1.8.2/jquery.min.js', 0), (<Element script at 0x2143666ea40>, 'src', '/static/js/libs/modernizr.js', 0), (<Element link at 0x214366695e0>, 'href', '/static/stylesheets/style.30afed881237.css', 0), (<Element link at 0x2143660c1d0>, 'href', '/static/stylesheets/mq.eef77a5d2257.css', 0), (<Element link at 0x21436647770>, 'href', '/static/favicon.ico', 0), (<Element link at 0x214366474a0>, 'href', '/static/apple-touch-icon-144x144-precomposed.png', 0), (<Element link at 0x21436647720>, 'href', '/static/apple-touch-icon-114x114-precomposed.png', 0), (<Element link at 0x214366479a0>, 'href', '/static/apple-touch-icon-72x72-precomposed.png', 0), (<Element link at 0x21436647a90>, 'href', '/static/apple-touch-icon-precomposed.png', 0), (<Element link at 0x21436647900>, 'href', '/static/apple-touch-icon-precomposed.png', 0), (<Element link at 0x21436647f90>, 'href', '/static/humans.txt', 0), (<Element link at 0x214366472c0>, 'href', 'https://www.python.org/dev/peps/peps.rss/', 0), (<Element link at 0x214363efbd0>, 'href', 'https://www.python.org/jobs/feed/rss/', 0), (<Element link at 0x214363ef7c0>, 'href', 'https://feeds.feedburner.com/PythonSoftwareFoundationNews', 0), (<Element link at 0x214363eff90>, 'href', 'https://feeds.feedburner.com/PythonInsider', 0), (<Element a at 0x214363efef0>, 'href', '#content', 0), (<Element a at 0x214363ef6d0>, 'href', '#python-network', 0), (<Element a at 0x214363ef9f0>, 'href', '/', 0), (<Element a at 0x214363efb80>, 'href', '/psf-landing/', 0), (<Element a at 0x214363efd60>, 'href', 'https://docs.python.org', 0), (<Element a at 0x214366dce00>, 'href', 'https://pypi.org/', 0), (<Element a at 0x214366dca40>, 'href', '/jobs/', 0), (<Element a at 0x214366dcc20>, 'href', '/community-landing/', 0), (<Element a at 0x214366dcef0>, 'href', '#top', 0), (<Element a at 0x214366dca90>, 'href', '/', 0), (<Element img at 0x214366dcd60>, 'src', '/static/img/python-logo.png', 0), (<Element a at 0x214366dccc0>, 'href', 'https://psfmember.org/civicrm/contribute/transact?reset=1&id=2', 0), (<Element a at 0x214366dcd10>, 'href', '#site-map', 0), (<Element form at 0x21436696b30>, 'action', '/search/', 0), (<Element a at 0x214366dc950>, 'href', '#', 0), (<Element a at 0x214366dc9f0>, 'href', 'javascript:;', 0), (<Element a at 0x214366dc810>, 'href', 'javascript:;', 0), (<Element a at 0x214366dc7c0>, 'href', 'javascript:;', 0), (<Element a at 0x214366dc540>, 'href', '#', 0), (<Element a at 0x214366dc720>, 'href', 'https://www.facebook.com/pythonlang?fref=ts', 0), (<Element a at 0x214366dc400>, 'href', 'https://twitter.com/ThePSF', 0), (<Element a at 0x214366dc1d0>, 'href', '/community/irc/', 0), (<Element a at 0x214366dc360>, 'href', '/about/', 0), (<Element a at 0x214366dc860>, 'href', '/about/apps/', 0), (<Element a at 0x214366dc270>, 'href', '/about/quotes/', 0), (<Element a at 0x214366dc680>, 'href', '/about/gettingstarted/', 0), (<Element a at 0x214366dc220>, 'href', '/about/help/', 0), (<Element a at 0x214366dcae0>, 'href', 'http://brochure.getpython.info/', 0), (<Element a at 0x214366dc180>, 'href', '/downloads/', 0), (<Element a at 0x214366dc450>, 'href', '/downloads/', 0), (<Element a at 0x214366dc4f0>, 'href', '/downloads/source/', 0), (<Element a at 0x214366dce50>, 'href', '/downloads/windows/', 0), (<Element a at 0x214364c8400>, 'href', '/downloads/mac-osx/', 0), (<Element a at 0x214364c8180>, 'href', '/download/other/', 0), (<Element a at 0x214364c8770>, 'href', 'https://docs.python.org/3/license.html', 0), (<Element a at 0x214364c8e50>, 'href', '/download/alternatives', 0), (<Element a at 0x214364c8b80>, 'href', '/doc/', 0), (<Element a at 0x214364c8ae0>, 'href', '/doc/', 0), (<Element a at 0x214364c8720>, 'href', '/doc/av', 0), (<Element a at 0x214364c84a0>, 'href', 'https://wiki.python.org/moin/BeginnersGuide', 0), (<Element a at 0x214364c89f0>, 'href', 'https://devguide.python.org/', 0), (<Element a at 0x214364c8d60>, 'href', 'https://docs.python.org/faq/', 0), (<Element a at 0x214364c80e0>, 'href', 'http://wiki.python.org/moin/Languages', 0), (<Element a at 0x214364c85e0>, 'href', 'http://python.org/dev/peps/', 0), (<Element a at 0x214364c8a40>, 'href', 'https://wiki.python.org/moin/PythonBooks', 0), (<Element a at 0x214364c8db0>, 'href', '/doc/essays/', 0), (<Element a at 0x2143665f040>, 'href', '/community/', 0), (<Element a at 0x2143665f1d0>, 'href', '/community/survey', 0), (<Element a at 0x2143665f090>, 'href', '/community/diversity/', 0), (<Element a at 0x2143665f220>, 'href', '/community/lists/', 0), (<Element a at 0x2143665f450>, 'href', '/community/irc/', 0), (<Element a at 0x2143665f3b0>, 'href', '/community/forums/', 0), (<Element a at 0x2143665f4a0>, 'href', '/psf/annual-report/2020/', 0), (<Element a at 0x2143665f590>, 'href', '/community/workshops/', 0), (<Element a at 0x2143665f680>, 'href', '/community/sigs/', 0), (<Element a at 0x2143665f770>, 'href', '/community/logos/', 0), (<Element a at 0x2143665f860>, 'href', 'https://wiki.python.org/moin/', 0), (<Element a at 0x2143665f950>, 'href', '/community/merchandise/', 0), (<Element a at 0x2143665fa40>, 'href', '/community/awards', 0), (<Element a at 0x2143665fc70>, 'href', '/psf/conduct/', 0), (<Element a at 0x2143665fbd0>, 'href', '/psf/get-involved/', 0), (<Element a at 0x2143665fcc0>, 'href', '/success-stories/', 0), (<Element a at 0x2143665ff40>, 'href', '/success-stories/category/arts/', 0), (<Element a at 0x2143633e040>, 'href', '/success-stories/category/business/', 0), (<Element a at 0x2143665fea0>, 'href', '/success-stories/category/education/', 0), (<Element a at 0x2143633e0e0>, 'href', '/success-stories/category/engineering/', 0), (<Element a at 0x2143633e180>, 'href', '/success-stories/category/government/', 0), (<Element a at 0x2143633e220>, 'href', '/success-stories/category/scientific/', 0), (<Element a at 0x2143633e2c0>, 'href', '/success-stories/category/software-development/', 0), (<Element a at 0x2143633e360>, 'href', '/blogs/', 0), (<Element a at 0x2143633e3b0>, 'href', '/blogs/', 0), (<Element a at 0x2143633e450>, 'href', '/psf/newsletter/', 0), (<Element a at 0x2143633e4f0>, 'href', 'http://planetpython.org/', 0), (<Element a at 0x2143633e5e0>, 'href', 'http://pyfound.blogspot.com/', 0), (<Element a at 0x2143633e6d0>, 'href', 'http://pycon.blogspot.com/', 0), (<Element a at 0x2143633e950>, 'href', '/events/', 0), (<Element a at 0x2143633e9f0>, 'href', '/events/python-events', 0), (<Element a at 0x2143633e8b0>, 'href', '/events/python-user-group/', 0), (<Element a at 0x2143633ea40>, 'href', '/events/python-events/past/', 0), (<Element a at 0x2143633eb30>, 'href', '/events/python-user-group/past/', 0), (<Element a at 0x2143633ed60>, 'href', 'https://wiki.python.org/moin/PythonEventsCalendar#Submitting_an_Event', 0), (<Element a at 0x2143633ecc0>, 'href', '/shell/', 0), (<Element a at 0x2143633ef40>, 'href', '//docs.python.org/3/tutorial/controlflow.html#defining-functions', 0), (<Element a at 0x2143633ee50>, 'href', '//docs.python.org/3/tutorial/introduction.html#lists', 0), (<Element a at 0x21436304090>, 'href', 'http://docs.python.org/3/tutorial/introduction.html#using-python-as-a-calculator', 0), (<Element a at 0x2143633eef0>, 'href', '//docs.python.org/3/tutorial/', 0), (<Element a at 0x21436304180>, 'href', '//docs.python.org/3/tutorial/controlflow.html', 0), (<Element a at 0x21436304270>, 'href', '/doc/', 0), (<Element a at 0x21436304040>, 'href', 'https://surveys.jetbrains.com/s3/c8-python-developers-survey-2020', 0), (<Element a at 0x21436304310>, 'href', '/about/gettingstarted/', 0), (<Element a at 0x21436304540>, 'href', '/downloads/release/python-390/', 0), (<Element a at 0x21436304630>, 'href', 'https://docs.python.org', 0), (<Element a at 0x214363045e0>, 'href', '//jobs.python.org', 0), (<Element a at 0x214363044f0>, 'href', 'https://blog.python.org', 0), (<Element a at 0x21436304810>, 'href', 'http://feedproxy.google.com/~r/PythonInsider/~3/x_KphpL1EaI/python-390-is-now-available-and-you-can.html', 0), (<Element a at 0x21436304860>, 'href', 'http://feedproxy.google.com/~r/PythonInsider/~3/9YDLIBncL3E/python-35-is-no-longer-supported.html', 0), (<Element a at 0x21436304720>, 'href', 'http://feedproxy.google.com/~r/PythonSoftwareFoundationNews/~3/4l7Ayj1RE2Q/join-python-developers-survey-2020.html', 0), (<Element a at 0x21436304900>, 'href', 'http://feedproxy.google.com/~r/PythonInsider/~3/1uMoG-StrAE/python-386-is-now-available.html', 0), (<Element a at 0x214363049a0>, 'href', 'http://feedproxy.google.com/~r/PythonSoftwareFoundationNews/~3/15M3ter9aRE/the-python-software-foundation-re-opens.html', 0), (<Element a at 0x21436304b30>, 'href', '/events/calendars/', 0), (<Element a at 0x21436304a40>, 'href', '/events/python-user-group/988/', 0), (<Element a at 0x21436304c20>, 'href', '/events/python-events/897/', 0), (<Element a at 0x21436304d10>, 'href', '/events/python-user-group/874/', 0), (<Element a at 0x21436304e00>, 'href', '/events/python-events/954/', 0), (<Element a at 0x21436304ef0>, 'href', '/events/python-events/973/', 0), (<Element a at 0x21436304f90>, 'href', '/success-stories/', 0), (<Element a at 0x214367a50e0>, 'href', '/success-stories/python-for-financial-machine-learning-at-union-investment/', 0), (<Element a at 0x214367a53b0>, 'href', '/success-stories/python-for-financial-machine-learning-at-union-investment/', 0), (<Element a at 0x214367a5130>, 'href', '/about/apps', 0), (<Element a at 0x214367a5310>, 'href', 'http://www.djangoproject.com/', 0), (<Element a at 0x214367a5400>, 'href', 'http://www.pylonsproject.org/', 0), (<Element a at 0x214367a54f0>, 'href', 'http://bottlepy.org', 0), (<Element a at 0x214367a55e0>, 'href', 'http://tornadoweb.org', 0), (<Element a at 0x214367a56d0>, 'href', 'http://flask.pocoo.org/', 0), (<Element a at 0x214367a57c0>, 'href', 'http://www.web2py.com/', 0), (<Element a at 0x214367a58b0>, 'href', 'http://wiki.python.org/moin/TkInter', 0), (<Element a at 0x214367a5950>, 'href', 'https://wiki.gnome.org/Projects/PyGObject', 0), (<Element a at 0x214367a59f0>, 'href', 'http://www.riverbankcomputing.co.uk/software/pyqt/intro', 0), (<Element a at 0x214367a5a90>, 'href', 'https://wiki.qt.io/PySide', 0), (<Element a at 0x214367a5b80>, 'href', 'https://kivy.org/', 0), (<Element a at 0x214367a5c70>, 'href', 'http://www.wxpython.org/', 0), (<Element a at 0x214367a5d60>, 'href', 'http://www.scipy.org', 0), (<Element a at 0x214367a5e50>, 'href', 'http://pandas.pydata.org/', 0), (<Element a at 0x214367a5f40>, 'href', 'http://ipython.org', 0), (<Element a at 0x214367aba40>, 'href', 'http://buildbot.net/', 0), (<Element a at 0x214367abbd0>, 'href', 'http://trac.edgewall.org/', 0), (<Element a at 0x214367ab450>, 'href', 'http://roundup.sourceforge.net/', 0), (<Element a at 0x214367ab130>, 'href', 'http://www.ansible.com', 0), (<Element a at 0x214367ab220>, 'href', 'http://www.saltstack.com', 0), (<Element a at 0x214367ab360>, 'href', 'https://www.openstack.org', 0), (<Element a at 0x214367ab540>, 'href', '/dev/peps/', 0), (<Element a at 0x214367ab590>, 'href', '/dev/peps/peps.rss', 0), (<Element a at 0x214367ab680>, 'href', '/psf/', 0), (<Element a at 0x214367ab040>, 'href', '/psf/', 0), (<Element a at 0x214367ab270>, 'href', '/users/membership/', 0), (<Element a at 0x214367ab7c0>, 'href', '/psf/donations/', 0), (<Element a at 0x214367ab8b0>, 'href', '#python-network', 0), (<Element a at 0x214367abcc0>, 'href', '/about/', 0), (<Element a at 0x214367abdb0>, 'href', '/about/apps/', 0), (<Element a at 0x214367aba90>, 'href', '/about/quotes/', 0), (<Element a at 0x214367abd10>, 'href', '/about/gettingstarted/', 0), (<Element a at 0x214367abf40>, 'href', '/about/help/', 0), (<Element a at 0x214367abea0>, 'href', 'http://brochure.getpython.info/', 0), (<Element a at 0x214367b7180>, 'href', '/downloads/', 0), (<Element a at 0x214367b70e0>, 'href', '/downloads/', 0), (<Element a at 0x214367b7090>, 'href', '/downloads/source/', 0), (<Element a at 0x214367b7220>, 'href', '/downloads/windows/', 0), (<Element a at 0x214367b7310>, 'href', '/downloads/mac-osx/', 0), (<Element a at 0x214367b7400>, 'href', '/download/other/', 0), (<Element a at 0x214367b7630>, 'href', 'https://docs.python.org/3/license.html', 0), (<Element a at 0x214367b7590>, 'href', '/download/alternatives', 0), (<Element a at 0x214367b7810>, 'href', '/doc/', 0), (<Element a at 0x214367b7900>, 'href', '/doc/', 0), (<Element a at 0x214367b7720>, 'href', '/doc/av', 0), (<Element a at 0x214367b7860>, 'href', 'https://wiki.python.org/moin/BeginnersGuide', 0), (<Element a at 0x214367b79a0>, 'href', 'https://devguide.python.org/', 0), (<Element a at 0x214367b79f0>, 'href', 'https://docs.python.org/faq/', 0), (<Element a at 0x214367b7c20>, 'href', 'http://wiki.python.org/moin/Languages', 0), (<Element a at 0x214367b7b80>, 'href', 'http://python.org/dev/peps/', 0), (<Element a at 0x214367b7db0>, 'href', 'https://wiki.python.org/moin/PythonBooks', 0), (<Element a at 0x214367b7d10>, 'href', '/doc/essays/', 0), (<Element a at 0x214367b7e50>, 'href', '/community/', 0), (<Element a at 0x214367b7ea0>, 'href', '/community/survey', 0), (<Element a at 0x2143660a040>, 'href', '/community/diversity/', 0), (<Element a at 0x2143660a090>, 'href', '/community/lists/', 0), (<Element a at 0x2143660a2c0>, 'href', '/community/irc/', 0), (<Element a at 0x2143660a220>, 'href', '/community/forums/', 0), (<Element a at 0x2143660a310>, 'href', '/psf/annual-report/2020/', 0), (<Element a at 0x2143660a400>, 'href', '/community/workshops/', 0), (<Element a at 0x2143660a4f0>, 'href', '/community/sigs/', 0), (<Element a at 0x2143660a5e0>, 'href', '/community/logos/', 0), (<Element a at 0x2143660a6d0>, 'href', 'https://wiki.python.org/moin/', 0), (<Element a at 0x2143660a7c0>, 'href', '/community/merchandise/', 0), (<Element a at 0x2143660a8b0>, 'href', '/community/awards', 0), (<Element a at 0x2143660aae0>, 'href', '/psf/conduct/', 0), (<Element a at 0x2143660aa40>, 'href', '/psf/get-involved/', 0), (<Element a at 0x2143660ab30>, 'href', '/success-stories/', 0), (<Element a at 0x2143660adb0>, 'href', '/success-stories/category/arts/', 0), (<Element a at 0x2143660ae50>, 'href', '/success-stories/category/business/', 0), (<Element a at 0x2143660ad10>, 'href', '/success-stories/category/education/', 0), (<Element a at 0x2143660aef0>, 'href', '/success-stories/category/engineering/', 0), (<Element a at 0x2143660af90>, 'href', '/success-stories/category/government/', 0), (<Element a at 0x21436632090>, 'href', '/success-stories/category/scientific/', 0), (<Element a at 0x21436632130>, 'href', '/success-stories/category/software-development/', 0), (<Element a at 0x214366321d0>, 'href', '/blogs/', 0), (<Element a at 0x21436632220>, 'href', '/blogs/', 0), (<Element a at 0x214366322c0>, 'href', '/psf/newsletter/', 0), (<Element a at 0x21436632360>, 'href', 'http://planetpython.org/', 0), (<Element a at 0x21436632450>, 'href', 'http://pyfound.blogspot.com/', 0), (<Element a at 0x21436632540>, 'href', 'http://pycon.blogspot.com/', 0), (<Element a at 0x214366327c0>, 'href', '/events/', 0), (<Element a at 0x21436632860>, 'href', '/events/python-events', 0), (<Element a at 0x21436632720>, 'href', '/events/python-user-group/', 0), (<Element a at 0x214366328b0>, 'href', '/events/python-events/past/', 0), (<Element a at 0x214366329a0>, 'href', '/events/python-user-group/past/', 0), (<Element a at 0x21436632bd0>, 'href', 'https://wiki.python.org/moin/PythonEventsCalendar#Submitting_an_Event', 0), (<Element a at 0x21436632b30>, 'href', '/dev/', 0), (<Element a at 0x21436632d60>, 'href', 'https://devguide.python.org/', 0), (<Element a at 0x21436632c20>, 'href', 'https://bugs.python.org/', 0), (<Element a at 0x21436632ef0>, 'href', 'https://mail.python.org/mailman/listinfo/python-dev', 0), (<Element a at 0x21436632e50>, 'href', '/dev/core-mentorship/', 0), (<Element a at 0x21436638090>, 'href', '/dev/security/', 0), (<Element a at 0x214366380e0>, 'href', '#python-network', 0), (<Element a at 0x21436638040>, 'href', '/about/help/', 0), (<Element a at 0x21436638360>, 'href', '/community/diversity/', 0), (<Element a at 0x21436638180>, 'href', 'https://github.com/python/pythondotorg/issues', 0), (<Element a at 0x214366383b0>, 'href', 'https://status.python.org/', 0), (<Element a at 0x21436638400>, 'href', '/psf-landing/', 0), (<Element a at 0x214366385e0>, 'href', '/about/legal/', 0), (<Element a at 0x21436638540>, 'href', '/privacy/', 0), (<Element a at 0x21436638680>, 'href', '/psf/sponsorship/sponsors/#heroku', 0), (<Element script at 0x214366387c0>, 'src', '//ajax.googleapis.com/ajax/libs/jquery/1.8.2/jquery.min.js', 0), (<Element script at 0x21436638810>, 'src', '/static/js/libs/masonry.pkgd.min.js', 0), (<Element script at 0x21436638860>, 'src', '/static/js/libs/html-includes.js', 0), (<Element script at 0x214366386d0>, 'src', '/static/js/main-min.54f74dc425e5.js', 0)]\n",
      "[(<Element link at 0x21436669270>, 'href', '//ajax.googleapis.com/ajax/libs/jquery/1.8.2/jquery.min.js', 0), (<Element script at 0x214366966d0>, 'src', '/static/js/libs/modernizr.js', 0), (<Element link at 0x214366695e0>, 'href', '/static/stylesheets/style.30afed881237.css', 0), (<Element link at 0x2143660c1d0>, 'href', '/static/stylesheets/mq.eef77a5d2257.css', 0), (<Element link at 0x21436647770>, 'href', '/static/favicon.ico', 0), (<Element link at 0x21436647e50>, 'href', '/static/apple-touch-icon-144x144-precomposed.png', 0), (<Element link at 0x21436647720>, 'href', '/static/apple-touch-icon-114x114-precomposed.png', 0), (<Element link at 0x214366479a0>, 'href', '/static/apple-touch-icon-72x72-precomposed.png', 0), (<Element link at 0x21436647a90>, 'href', '/static/apple-touch-icon-precomposed.png', 0), (<Element link at 0x21436647900>, 'href', '/static/apple-touch-icon-precomposed.png', 0), (<Element link at 0x21436647ea0>, 'href', '/static/humans.txt', 0), (<Element link at 0x214366472c0>, 'href', 'https://www.python.org/dev/peps/peps.rss/', 0), (<Element link at 0x214363efbd0>, 'href', 'https://www.python.org/jobs/feed/rss/', 0), (<Element link at 0x214363ef7c0>, 'href', 'https://feeds.feedburner.com/PythonSoftwareFoundationNews', 0), (<Element link at 0x214363eff90>, 'href', 'https://feeds.feedburner.com/PythonInsider', 0), (<Element a at 0x214363ef6d0>, 'href', '#content', 0), (<Element a at 0x214363ef9f0>, 'href', '#python-network', 0), (<Element a at 0x214363efb80>, 'href', '/', 0), (<Element a at 0x214363efef0>, 'href', '/psf-landing/', 0), (<Element a at 0x214363efd60>, 'href', 'https://docs.python.org', 0), (<Element a at 0x214366dce00>, 'href', 'https://pypi.org/', 0), (<Element a at 0x214366dcc20>, 'href', '/jobs/', 0), (<Element a at 0x214366dca40>, 'href', '/community-landing/', 0), (<Element a at 0x214366dcef0>, 'href', '#top', 0), (<Element a at 0x214366dcb30>, 'href', '/', 0), (<Element img at 0x214366dca90>, 'src', '/static/img/python-logo.png', 0), (<Element a at 0x214366dcd10>, 'href', 'https://psfmember.org/civicrm/contribute/transact?reset=1&id=2', 0), (<Element a at 0x214366dcd60>, 'href', '#site-map', 0), (<Element form at 0x21436696b30>, 'action', '/search/', 0), (<Element a at 0x214366dc950>, 'href', '#', 0), (<Element a at 0x214366dc810>, 'href', 'javascript:;', 0), (<Element a at 0x214366dc9f0>, 'href', 'javascript:;', 0), (<Element a at 0x214366dc7c0>, 'href', 'javascript:;', 0), (<Element a at 0x214366dc720>, 'href', '#', 0), (<Element a at 0x214366dc5e0>, 'href', 'https://www.facebook.com/pythonlang?fref=ts', 0), (<Element a at 0x214366dc1d0>, 'href', 'https://twitter.com/ThePSF', 0), (<Element a at 0x214366dc860>, 'href', '/community/irc/', 0), (<Element a at 0x214366dc270>, 'href', '/about/', 0), (<Element a at 0x214366dc680>, 'href', '/about/apps/', 0), (<Element a at 0x214366dc360>, 'href', '/about/quotes/', 0), (<Element a at 0x214366dc540>, 'href', '/about/gettingstarted/', 0), (<Element a at 0x214366dcae0>, 'href', '/about/help/', 0), (<Element a at 0x214366dc220>, 'href', 'http://brochure.getpython.info/', 0), (<Element a at 0x214366dc450>, 'href', '/downloads/', 0), (<Element a at 0x214366dc770>, 'href', '/downloads/', 0), (<Element a at 0x214366dc180>, 'href', '/downloads/source/', 0), (<Element a at 0x214366dcf40>, 'href', '/downloads/windows/', 0), (<Element a at 0x214364c8900>, 'href', '/downloads/mac-osx/', 0), (<Element a at 0x214364c8630>, 'href', '/download/other/', 0), (<Element a at 0x214364c8e50>, 'href', 'https://docs.python.org/3/license.html', 0), (<Element a at 0x214364c8770>, 'href', '/download/alternatives', 0), (<Element a at 0x214364c8ae0>, 'href', '/doc/', 0), (<Element a at 0x214364c84a0>, 'href', '/doc/', 0), (<Element a at 0x214364c8b80>, 'href', '/doc/av', 0), (<Element a at 0x214364c8720>, 'href', 'https://wiki.python.org/moin/BeginnersGuide', 0), (<Element a at 0x214364c89f0>, 'href', 'https://devguide.python.org/', 0), (<Element a at 0x214364c86d0>, 'href', 'https://docs.python.org/faq/', 0), (<Element a at 0x214364c85e0>, 'href', 'http://wiki.python.org/moin/Languages', 0), (<Element a at 0x214364c80e0>, 'href', 'http://python.org/dev/peps/', 0), (<Element a at 0x214364c8db0>, 'href', 'https://wiki.python.org/moin/PythonBooks', 0), (<Element a at 0x214364c8a40>, 'href', '/doc/essays/', 0), (<Element a at 0x2143665f040>, 'href', '/community/', 0), (<Element a at 0x2143665f090>, 'href', '/community/survey', 0), (<Element a at 0x2143665f0e0>, 'href', '/community/diversity/', 0), (<Element a at 0x2143665f2c0>, 'href', '/community/lists/', 0), (<Element a at 0x2143665f3b0>, 'href', '/community/irc/', 0), (<Element a at 0x2143665f450>, 'href', '/community/forums/', 0), (<Element a at 0x2143665f540>, 'href', '/psf/annual-report/2020/', 0), (<Element a at 0x2143665f630>, 'href', '/community/workshops/', 0), (<Element a at 0x2143665f720>, 'href', '/community/sigs/', 0), (<Element a at 0x2143665f810>, 'href', '/community/logos/', 0), (<Element a at 0x2143665f900>, 'href', 'https://wiki.python.org/moin/', 0), (<Element a at 0x2143665f9f0>, 'href', '/community/merchandise/', 0), (<Element a at 0x2143665fae0>, 'href', '/community/awards', 0), (<Element a at 0x2143665fbd0>, 'href', '/psf/conduct/', 0), (<Element a at 0x2143665fc70>, 'href', '/psf/get-involved/', 0), (<Element a at 0x2143665fd60>, 'href', '/success-stories/', 0), (<Element a at 0x2143665fea0>, 'href', '/success-stories/category/arts/', 0), (<Element a at 0x2143633e040>, 'href', '/success-stories/category/business/', 0), (<Element a at 0x2143665ff40>, 'href', '/success-stories/category/education/', 0), (<Element a at 0x2143633e0e0>, 'href', '/success-stories/category/engineering/', 0), (<Element a at 0x2143633e180>, 'href', '/success-stories/category/government/', 0), (<Element a at 0x2143633e220>, 'href', '/success-stories/category/scientific/', 0), (<Element a at 0x2143633e2c0>, 'href', '/success-stories/category/software-development/', 0), (<Element a at 0x2143633e360>, 'href', '/blogs/', 0), (<Element a at 0x2143633e4a0>, 'href', '/blogs/', 0), (<Element a at 0x2143633e3b0>, 'href', '/psf/newsletter/', 0), (<Element a at 0x2143633e590>, 'href', 'http://planetpython.org/', 0), (<Element a at 0x2143633e680>, 'href', 'http://pyfound.blogspot.com/', 0), (<Element a at 0x2143633e770>, 'href', 'http://pycon.blogspot.com/', 0), (<Element a at 0x2143633e9f0>, 'href', '/events/', 0), (<Element a at 0x2143633e8b0>, 'href', '/events/python-events', 0), (<Element a at 0x2143633e900>, 'href', '/events/python-user-group/', 0), (<Element a at 0x2143633eae0>, 'href', '/events/python-events/past/', 0), (<Element a at 0x2143633ebd0>, 'href', '/events/python-user-group/past/', 0), (<Element a at 0x2143633ecc0>, 'href', 'https://wiki.python.org/moin/PythonEventsCalendar#Submitting_an_Event', 0), (<Element a at 0x2143633ed60>, 'href', '/shell/', 0), (<Element a at 0x2143633eef0>, 'href', '//docs.python.org/3/tutorial/controlflow.html#defining-functions', 0), (<Element a at 0x2143633ef40>, 'href', '//docs.python.org/3/tutorial/introduction.html#lists', 0), (<Element a at 0x21436304090>, 'href', 'http://docs.python.org/3/tutorial/introduction.html#using-python-as-a-calculator', 0), (<Element a at 0x2143633ee50>, 'href', '//docs.python.org/3/tutorial/', 0), (<Element a at 0x21436304270>, 'href', '//docs.python.org/3/tutorial/controlflow.html', 0), (<Element a at 0x21436304040>, 'href', '/doc/', 0), (<Element a at 0x21436304130>, 'href', 'https://surveys.jetbrains.com/s3/c8-python-developers-survey-2020', 0), (<Element a at 0x214363042c0>, 'href', '/about/gettingstarted/', 0), (<Element a at 0x21436304630>, 'href', '/downloads/release/python-390/', 0), (<Element a at 0x214363045e0>, 'href', 'https://docs.python.org', 0), (<Element a at 0x214363044f0>, 'href', '//jobs.python.org', 0), (<Element a at 0x21436304400>, 'href', 'https://blog.python.org', 0), (<Element a at 0x21436304860>, 'href', 'http://feedproxy.google.com/~r/PythonInsider/~3/x_KphpL1EaI/python-390-is-now-available-and-you-can.html', 0), (<Element a at 0x21436304720>, 'href', 'http://feedproxy.google.com/~r/PythonInsider/~3/9YDLIBncL3E/python-35-is-no-longer-supported.html', 0), (<Element a at 0x214363047c0>, 'href', 'http://feedproxy.google.com/~r/PythonSoftwareFoundationNews/~3/4l7Ayj1RE2Q/join-python-developers-survey-2020.html', 0), (<Element a at 0x21436304900>, 'href', 'http://feedproxy.google.com/~r/PythonInsider/~3/1uMoG-StrAE/python-386-is-now-available.html', 0), (<Element a at 0x214363049a0>, 'href', 'http://feedproxy.google.com/~r/PythonSoftwareFoundationNews/~3/15M3ter9aRE/the-python-software-foundation-re-opens.html', 0), (<Element a at 0x21436304bd0>, 'href', '/events/calendars/', 0), (<Element a at 0x21436304ae0>, 'href', '/events/python-user-group/988/', 0), (<Element a at 0x21436304c20>, 'href', '/events/python-events/897/', 0), (<Element a at 0x21436304cc0>, 'href', '/events/python-user-group/874/', 0), (<Element a at 0x21436304db0>, 'href', '/events/python-events/954/', 0), (<Element a at 0x21436304ea0>, 'href', '/events/python-events/973/', 0), (<Element a at 0x21436304f90>, 'href', '/success-stories/', 0), (<Element a at 0x214367a5130>, 'href', '/success-stories/python-for-financial-machine-learning-at-union-investment/', 0), (<Element a at 0x214367a5310>, 'href', '/success-stories/python-for-financial-machine-learning-at-union-investment/', 0), (<Element a at 0x214367a5220>, 'href', '/about/apps', 0), (<Element a at 0x214367a52c0>, 'href', 'http://www.djangoproject.com/', 0), (<Element a at 0x214367a5400>, 'href', 'http://www.pylonsproject.org/', 0), (<Element a at 0x214367a54a0>, 'href', 'http://bottlepy.org', 0), (<Element a at 0x214367a5590>, 'href', 'http://tornadoweb.org', 0), (<Element a at 0x214367a5680>, 'href', 'http://flask.pocoo.org/', 0), (<Element a at 0x214367a5770>, 'href', 'http://www.web2py.com/', 0), (<Element a at 0x214367a5860>, 'href', 'http://wiki.python.org/moin/TkInter', 0), (<Element a at 0x214367a5950>, 'href', 'https://wiki.gnome.org/Projects/PyGObject', 0), (<Element a at 0x214367a59f0>, 'href', 'http://www.riverbankcomputing.co.uk/software/pyqt/intro', 0), (<Element a at 0x214367a5a90>, 'href', 'https://wiki.qt.io/PySide', 0), (<Element a at 0x214367a5b30>, 'href', 'https://kivy.org/', 0), (<Element a at 0x214367a5c20>, 'href', 'http://www.wxpython.org/', 0), (<Element a at 0x214367a5d10>, 'href', 'http://www.scipy.org', 0), (<Element a at 0x214367a5e00>, 'href', 'http://pandas.pydata.org/', 0), (<Element a at 0x214367a5ef0>, 'href', 'http://ipython.org', 0), (<Element a at 0x214367abae0>, 'href', 'http://buildbot.net/', 0), (<Element a at 0x214367abb80>, 'href', 'http://trac.edgewall.org/', 0), (<Element a at 0x214367ab6d0>, 'href', 'http://roundup.sourceforge.net/', 0), (<Element a at 0x214367ab400>, 'href', 'http://www.ansible.com', 0), (<Element a at 0x214367ab1d0>, 'href', 'http://www.saltstack.com', 0), (<Element a at 0x214367ab630>, 'href', 'https://www.openstack.org', 0), (<Element a at 0x214367ab310>, 'href', '/dev/peps/', 0), (<Element a at 0x214367ab680>, 'href', '/dev/peps/peps.rss', 0), (<Element a at 0x214367ab270>, 'href', '/psf/', 0), (<Element a at 0x214367ab040>, 'href', '/psf/', 0), (<Element a at 0x214367ab590>, 'href', '/users/membership/', 0), (<Element a at 0x214367ab770>, 'href', '/psf/donations/', 0), (<Element a at 0x214367ab8b0>, 'href', '#python-network', 0), (<Element a at 0x214367abdb0>, 'href', '/about/', 0), (<Element a at 0x214367abd10>, 'href', '/about/apps/', 0), (<Element a at 0x214367abcc0>, 'href', '/about/quotes/', 0), (<Element a at 0x214367aba90>, 'href', '/about/gettingstarted/', 0), (<Element a at 0x214367abea0>, 'href', '/about/help/', 0), (<Element a at 0x214367abf40>, 'href', 'http://brochure.getpython.info/', 0), (<Element a at 0x214367b70e0>, 'href', '/downloads/', 0), (<Element a at 0x214367b71d0>, 'href', '/downloads/', 0), (<Element a at 0x214367b7180>, 'href', '/downloads/source/', 0), (<Element a at 0x214367b72c0>, 'href', '/downloads/windows/', 0), (<Element a at 0x214367b73b0>, 'href', '/downloads/mac-osx/', 0), (<Element a at 0x214367b74a0>, 'href', '/download/other/', 0), (<Element a at 0x214367b7590>, 'href', 'https://docs.python.org/3/license.html', 0), (<Element a at 0x214367b7630>, 'href', '/download/alternatives', 0), (<Element a at 0x214367b7900>, 'href', '/doc/', 0), (<Element a at 0x214367b7860>, 'href', '/doc/', 0), (<Element a at 0x214367b7810>, 'href', '/doc/av', 0), (<Element a at 0x214367b7720>, 'href', 'https://wiki.python.org/moin/BeginnersGuide', 0), (<Element a at 0x214367b79a0>, 'href', 'https://devguide.python.org/', 0), (<Element a at 0x214367b7a90>, 'href', 'https://docs.python.org/faq/', 0), (<Element a at 0x214367b7b80>, 'href', 'http://wiki.python.org/moin/Languages', 0), (<Element a at 0x214367b7c20>, 'href', 'http://python.org/dev/peps/', 0), (<Element a at 0x214367b7d10>, 'href', 'https://wiki.python.org/moin/PythonBooks', 0), (<Element a at 0x214367b7db0>, 'href', '/doc/essays/', 0), (<Element a at 0x214367b7e50>, 'href', '/community/', 0), (<Element a at 0x214367b7ef0>, 'href', '/community/survey', 0), (<Element a at 0x2143660a040>, 'href', '/community/diversity/', 0), (<Element a at 0x2143660a130>, 'href', '/community/lists/', 0), (<Element a at 0x2143660a220>, 'href', '/community/irc/', 0), (<Element a at 0x2143660a2c0>, 'href', '/community/forums/', 0), (<Element a at 0x2143660a3b0>, 'href', '/psf/annual-report/2020/', 0), (<Element a at 0x2143660a4a0>, 'href', '/community/workshops/', 0), (<Element a at 0x2143660a590>, 'href', '/community/sigs/', 0), (<Element a at 0x2143660a680>, 'href', '/community/logos/', 0), (<Element a at 0x2143660a770>, 'href', 'https://wiki.python.org/moin/', 0), (<Element a at 0x2143660a860>, 'href', '/community/merchandise/', 0), (<Element a at 0x2143660a950>, 'href', '/community/awards', 0), (<Element a at 0x2143660aa40>, 'href', '/psf/conduct/', 0), (<Element a at 0x2143660aae0>, 'href', '/psf/get-involved/', 0), (<Element a at 0x2143660abd0>, 'href', '/success-stories/', 0), (<Element a at 0x2143660ae50>, 'href', '/success-stories/category/arts/', 0), (<Element a at 0x2143660ad10>, 'href', '/success-stories/category/business/', 0), (<Element a at 0x2143660adb0>, 'href', '/success-stories/category/education/', 0), (<Element a at 0x2143660aef0>, 'href', '/success-stories/category/engineering/', 0), (<Element a at 0x2143660af90>, 'href', '/success-stories/category/government/', 0), (<Element a at 0x21436632090>, 'href', '/success-stories/category/scientific/', 0), (<Element a at 0x21436632130>, 'href', '/success-stories/category/software-development/', 0), (<Element a at 0x214366321d0>, 'href', '/blogs/', 0), (<Element a at 0x21436632310>, 'href', '/blogs/', 0), (<Element a at 0x21436632220>, 'href', '/psf/newsletter/', 0), (<Element a at 0x21436632400>, 'href', 'http://planetpython.org/', 0), (<Element a at 0x214366324f0>, 'href', 'http://pyfound.blogspot.com/', 0), (<Element a at 0x214366325e0>, 'href', 'http://pycon.blogspot.com/', 0), (<Element a at 0x21436632860>, 'href', '/events/', 0), (<Element a at 0x21436632720>, 'href', '/events/python-events', 0), (<Element a at 0x21436632770>, 'href', '/events/python-user-group/', 0), (<Element a at 0x21436632950>, 'href', '/events/python-events/past/', 0), (<Element a at 0x21436632a40>, 'href', '/events/python-user-group/past/', 0), (<Element a at 0x21436632b30>, 'href', 'https://wiki.python.org/moin/PythonEventsCalendar#Submitting_an_Event', 0), (<Element a at 0x21436632bd0>, 'href', '/dev/', 0), (<Element a at 0x21436632c20>, 'href', 'https://devguide.python.org/', 0), (<Element a at 0x21436632c70>, 'href', 'https://bugs.python.org/', 0), (<Element a at 0x21436632e50>, 'href', 'https://mail.python.org/mailman/listinfo/python-dev', 0), (<Element a at 0x21436632ef0>, 'href', '/dev/core-mentorship/', 0), (<Element a at 0x214366380e0>, 'href', '/dev/security/', 0), (<Element a at 0x21436638040>, 'href', '#python-network', 0), (<Element a at 0x21436638090>, 'href', '/about/help/', 0), (<Element a at 0x21436638180>, 'href', '/community/diversity/', 0), (<Element a at 0x21436638270>, 'href', 'https://github.com/python/pythondotorg/issues', 0), (<Element a at 0x214366383b0>, 'href', 'https://status.python.org/', 0), (<Element a at 0x21436638400>, 'href', '/psf-landing/', 0), (<Element a at 0x21436638540>, 'href', '/about/legal/', 0), (<Element a at 0x214366385e0>, 'href', '/privacy/', 0), (<Element a at 0x21436638680>, 'href', '/psf/sponsorship/sponsors/#heroku', 0), (<Element script at 0x21436638810>, 'src', '//ajax.googleapis.com/ajax/libs/jquery/1.8.2/jquery.min.js', 0), (<Element script at 0x21436638860>, 'src', '/static/js/libs/masonry.pkgd.min.js', 0), (<Element script at 0x214366386d0>, 'src', '/static/js/libs/html-includes.js', 0), (<Element script at 0x214366387c0>, 'src', '/static/js/main-min.54f74dc425e5.js', 0)]\n",
      "[(<Element link at 0x21436669270>, 'href', '//ajax.googleapis.com/ajax/libs/jquery/1.8.2/jquery.min.js', 0), (<Element script at 0x2143666ea40>, 'src', '/static/js/libs/modernizr.js', 0), (<Element link at 0x214366695e0>, 'href', '/static/stylesheets/style.30afed881237.css', 0), (<Element link at 0x2143660c1d0>, 'href', '/static/stylesheets/mq.eef77a5d2257.css', 0), (<Element link at 0x21436647770>, 'href', '/static/favicon.ico', 0), (<Element link at 0x214366474a0>, 'href', '/static/apple-touch-icon-144x144-precomposed.png', 0), (<Element link at 0x21436647720>, 'href', '/static/apple-touch-icon-114x114-precomposed.png', 0), (<Element link at 0x214366479a0>, 'href', '/static/apple-touch-icon-72x72-precomposed.png', 0), (<Element link at 0x21436647a90>, 'href', '/static/apple-touch-icon-precomposed.png', 0), (<Element link at 0x21436647900>, 'href', '/static/apple-touch-icon-precomposed.png', 0), (<Element link at 0x21436647f90>, 'href', '/static/humans.txt', 0), (<Element link at 0x214366472c0>, 'href', 'https://www.python.org/dev/peps/peps.rss/', 0), (<Element link at 0x214363efbd0>, 'href', 'https://www.python.org/jobs/feed/rss/', 0), (<Element link at 0x214363ef7c0>, 'href', 'https://feeds.feedburner.com/PythonSoftwareFoundationNews', 0), (<Element link at 0x214363eff90>, 'href', 'https://feeds.feedburner.com/PythonInsider', 0), (<Element a at 0x214363ef9f0>, 'href', '#content', 0), (<Element a at 0x214363efb80>, 'href', '#python-network', 0), (<Element a at 0x214363efef0>, 'href', '/', 0), (<Element a at 0x214363ef6d0>, 'href', '/psf-landing/', 0), (<Element a at 0x214363efd60>, 'href', 'https://docs.python.org', 0), (<Element a at 0x214366dce00>, 'href', 'https://pypi.org/', 0), (<Element a at 0x214366dca40>, 'href', '/jobs/', 0), (<Element a at 0x214366dcc20>, 'href', '/community-landing/', 0), (<Element a at 0x214366dcef0>, 'href', '#top', 0), (<Element a at 0x214366dccc0>, 'href', '/', 0), (<Element img at 0x214366dcb30>, 'src', '/static/img/python-logo.png', 0), (<Element a at 0x214366dcd60>, 'href', 'https://psfmember.org/civicrm/contribute/transact?reset=1&id=2', 0), (<Element a at 0x214366dca90>, 'href', '#site-map', 0), (<Element form at 0x21436696b30>, 'action', '/search/', 0), (<Element a at 0x214366dc950>, 'href', '#', 0), (<Element a at 0x214366dc9f0>, 'href', 'javascript:;', 0), (<Element a at 0x214366dc810>, 'href', 'javascript:;', 0), (<Element a at 0x214366dc7c0>, 'href', 'javascript:;', 0), (<Element a at 0x214366dc5e0>, 'href', '#', 0), (<Element a at 0x214366dc400>, 'href', 'https://www.facebook.com/pythonlang?fref=ts', 0), (<Element a at 0x214366dc860>, 'href', 'https://twitter.com/ThePSF', 0), (<Element a at 0x214366dc680>, 'href', '/community/irc/', 0), (<Element a at 0x214366dc360>, 'href', '/about/', 0), (<Element a at 0x214366dc540>, 'href', '/about/apps/', 0), (<Element a at 0x214366dc270>, 'href', '/about/quotes/', 0), (<Element a at 0x214366dc720>, 'href', '/about/gettingstarted/', 0), (<Element a at 0x214366dc220>, 'href', '/about/help/', 0), (<Element a at 0x214366dcae0>, 'href', 'http://brochure.getpython.info/', 0), (<Element a at 0x214366dc770>, 'href', '/downloads/', 0), (<Element a at 0x214366dc4f0>, 'href', '/downloads/', 0), (<Element a at 0x214366dc450>, 'href', '/downloads/source/', 0), (<Element a at 0x214366dce50>, 'href', '/downloads/windows/', 0), (<Element a at 0x214364c8400>, 'href', '/downloads/mac-osx/', 0), (<Element a at 0x214364c8180>, 'href', '/download/other/', 0), (<Element a at 0x214364c8770>, 'href', 'https://docs.python.org/3/license.html', 0), (<Element a at 0x214364c8e50>, 'href', '/download/alternatives', 0), (<Element a at 0x214364c84a0>, 'href', '/doc/', 0), (<Element a at 0x214364c8720>, 'href', '/doc/', 0), (<Element a at 0x214364c8ae0>, 'href', '/doc/av', 0), (<Element a at 0x214364c8b80>, 'href', 'https://wiki.python.org/moin/BeginnersGuide', 0), (<Element a at 0x214364c89f0>, 'href', 'https://devguide.python.org/', 0), (<Element a at 0x214364c8d60>, 'href', 'https://docs.python.org/faq/', 0), (<Element a at 0x214364c80e0>, 'href', 'http://wiki.python.org/moin/Languages', 0), (<Element a at 0x214364c85e0>, 'href', 'http://python.org/dev/peps/', 0), (<Element a at 0x214364c8a40>, 'href', 'https://wiki.python.org/moin/PythonBooks', 0), (<Element a at 0x214364c8db0>, 'href', '/doc/essays/', 0), (<Element a at 0x2143665f040>, 'href', '/community/', 0), (<Element a at 0x2143665f0e0>, 'href', '/community/survey', 0), (<Element a at 0x2143665f130>, 'href', '/community/diversity/', 0), (<Element a at 0x2143665f220>, 'href', '/community/lists/', 0), (<Element a at 0x2143665f450>, 'href', '/community/irc/', 0), (<Element a at 0x2143665f3b0>, 'href', '/community/forums/', 0), (<Element a at 0x2143665f4a0>, 'href', '/psf/annual-report/2020/', 0), (<Element a at 0x2143665f590>, 'href', '/community/workshops/', 0), (<Element a at 0x2143665f680>, 'href', '/community/sigs/', 0), (<Element a at 0x2143665f770>, 'href', '/community/logos/', 0), (<Element a at 0x2143665f860>, 'href', 'https://wiki.python.org/moin/', 0), (<Element a at 0x2143665f950>, 'href', '/community/merchandise/', 0), (<Element a at 0x2143665fa40>, 'href', '/community/awards', 0), (<Element a at 0x2143665fc70>, 'href', '/psf/conduct/', 0), (<Element a at 0x2143665fbd0>, 'href', '/psf/get-involved/', 0), (<Element a at 0x2143665fcc0>, 'href', '/success-stories/', 0), (<Element a at 0x2143665ff40>, 'href', '/success-stories/category/arts/', 0), (<Element a at 0x2143633e040>, 'href', '/success-stories/category/business/', 0), (<Element a at 0x2143665fea0>, 'href', '/success-stories/category/education/', 0), (<Element a at 0x2143633e0e0>, 'href', '/success-stories/category/engineering/', 0), (<Element a at 0x2143633e180>, 'href', '/success-stories/category/government/', 0), (<Element a at 0x2143633e220>, 'href', '/success-stories/category/scientific/', 0), (<Element a at 0x2143633e2c0>, 'href', '/success-stories/category/software-development/', 0), (<Element a at 0x2143633e360>, 'href', '/blogs/', 0), (<Element a at 0x2143633e450>, 'href', '/blogs/', 0), (<Element a at 0x2143633e4a0>, 'href', '/psf/newsletter/', 0), (<Element a at 0x2143633e4f0>, 'href', 'http://planetpython.org/', 0), (<Element a at 0x2143633e5e0>, 'href', 'http://pyfound.blogspot.com/', 0), (<Element a at 0x2143633e6d0>, 'href', 'http://pycon.blogspot.com/', 0), (<Element a at 0x2143633e8b0>, 'href', '/events/', 0), (<Element a at 0x2143633e900>, 'href', '/events/python-events', 0), (<Element a at 0x2143633e860>, 'href', '/events/python-user-group/', 0), (<Element a at 0x2143633ea40>, 'href', '/events/python-events/past/', 0), (<Element a at 0x2143633eb30>, 'href', '/events/python-user-group/past/', 0), (<Element a at 0x2143633ed60>, 'href', 'https://wiki.python.org/moin/PythonEventsCalendar#Submitting_an_Event', 0), (<Element a at 0x2143633ecc0>, 'href', '/shell/', 0), (<Element a at 0x2143633ee50>, 'href', '//docs.python.org/3/tutorial/controlflow.html#defining-functions', 0), (<Element a at 0x2143633eef0>, 'href', '//docs.python.org/3/tutorial/introduction.html#lists', 0), (<Element a at 0x21436304090>, 'href', 'http://docs.python.org/3/tutorial/introduction.html#using-python-as-a-calculator', 0), (<Element a at 0x2143633ef40>, 'href', '//docs.python.org/3/tutorial/', 0), (<Element a at 0x21436304040>, 'href', '//docs.python.org/3/tutorial/controlflow.html', 0), (<Element a at 0x21436304130>, 'href', '/doc/', 0), (<Element a at 0x21436304180>, 'href', 'https://surveys.jetbrains.com/s3/c8-python-developers-survey-2020', 0), (<Element a at 0x21436304310>, 'href', '/about/gettingstarted/', 0), (<Element a at 0x214363045e0>, 'href', '/downloads/release/python-390/', 0), (<Element a at 0x214363044f0>, 'href', 'https://docs.python.org', 0), (<Element a at 0x21436304400>, 'href', '//jobs.python.org', 0), (<Element a at 0x21436304360>, 'href', 'https://blog.python.org', 0), (<Element a at 0x21436304720>, 'href', 'http://feedproxy.google.com/~r/PythonInsider/~3/x_KphpL1EaI/python-390-is-now-available-and-you-can.html', 0), (<Element a at 0x214363047c0>, 'href', 'http://feedproxy.google.com/~r/PythonInsider/~3/9YDLIBncL3E/python-35-is-no-longer-supported.html', 0), (<Element a at 0x21436304810>, 'href', 'http://feedproxy.google.com/~r/PythonSoftwareFoundationNews/~3/4l7Ayj1RE2Q/join-python-developers-survey-2020.html', 0), (<Element a at 0x21436304900>, 'href', 'http://feedproxy.google.com/~r/PythonInsider/~3/1uMoG-StrAE/python-386-is-now-available.html', 0), (<Element a at 0x214363049a0>, 'href', 'http://feedproxy.google.com/~r/PythonSoftwareFoundationNews/~3/15M3ter9aRE/the-python-software-foundation-re-opens.html', 0), (<Element a at 0x21436304a40>, 'href', '/events/calendars/', 0), (<Element a at 0x21436304b30>, 'href', '/events/python-user-group/988/', 0), (<Element a at 0x21436304c20>, 'href', '/events/python-events/897/', 0), (<Element a at 0x21436304d10>, 'href', '/events/python-user-group/874/', 0), (<Element a at 0x21436304e00>, 'href', '/events/python-events/954/', 0), (<Element a at 0x21436304ef0>, 'href', '/events/python-events/973/', 0), (<Element a at 0x21436304f90>, 'href', '/success-stories/', 0), (<Element a at 0x214367a5220>, 'href', '/success-stories/python-for-financial-machine-learning-at-union-investment/', 0), (<Element a at 0x214367a52c0>, 'href', '/success-stories/python-for-financial-machine-learning-at-union-investment/', 0), (<Element a at 0x214367a50e0>, 'href', '/about/apps', 0), (<Element a at 0x214367a53b0>, 'href', 'http://www.djangoproject.com/', 0), (<Element a at 0x214367a5400>, 'href', 'http://www.pylonsproject.org/', 0), (<Element a at 0x214367a54f0>, 'href', 'http://bottlepy.org', 0), (<Element a at 0x214367a55e0>, 'href', 'http://tornadoweb.org', 0), (<Element a at 0x214367a56d0>, 'href', 'http://flask.pocoo.org/', 0), (<Element a at 0x214367a57c0>, 'href', 'http://www.web2py.com/', 0), (<Element a at 0x214367a58b0>, 'href', 'http://wiki.python.org/moin/TkInter', 0), (<Element a at 0x214367a5950>, 'href', 'https://wiki.gnome.org/Projects/PyGObject', 0), (<Element a at 0x214367a59f0>, 'href', 'http://www.riverbankcomputing.co.uk/software/pyqt/intro', 0), (<Element a at 0x214367a5a90>, 'href', 'https://wiki.qt.io/PySide', 0), (<Element a at 0x214367a5b80>, 'href', 'https://kivy.org/', 0), (<Element a at 0x214367a5c70>, 'href', 'http://www.wxpython.org/', 0), (<Element a at 0x214367a5d60>, 'href', 'http://www.scipy.org', 0), (<Element a at 0x214367a5e50>, 'href', 'http://pandas.pydata.org/', 0), (<Element a at 0x214367a5f40>, 'href', 'http://ipython.org', 0), (<Element a at 0x214367aba40>, 'href', 'http://buildbot.net/', 0), (<Element a at 0x214367abbd0>, 'href', 'http://trac.edgewall.org/', 0), (<Element a at 0x214367ab450>, 'href', 'http://roundup.sourceforge.net/', 0), (<Element a at 0x214367ab130>, 'href', 'http://www.ansible.com', 0), (<Element a at 0x214367ab220>, 'href', 'http://www.saltstack.com', 0), (<Element a at 0x214367ab360>, 'href', 'https://www.openstack.org', 0), (<Element a at 0x214367ab540>, 'href', '/dev/peps/', 0), (<Element a at 0x214367ab270>, 'href', '/dev/peps/peps.rss', 0), (<Element a at 0x214367ab590>, 'href', '/psf/', 0), (<Element a at 0x214367ab040>, 'href', '/psf/', 0), (<Element a at 0x214367ab680>, 'href', '/users/membership/', 0), (<Element a at 0x214367ab7c0>, 'href', '/psf/donations/', 0), (<Element a at 0x214367ab8b0>, 'href', '#python-network', 0), (<Element a at 0x214367abd10>, 'href', '/about/', 0), (<Element a at 0x214367aba90>, 'href', '/about/apps/', 0), (<Element a at 0x214367abdb0>, 'href', '/about/quotes/', 0), (<Element a at 0x214367abcc0>, 'href', '/about/gettingstarted/', 0), (<Element a at 0x214367abf40>, 'href', '/about/help/', 0), (<Element a at 0x214367abea0>, 'href', 'http://brochure.getpython.info/', 0), (<Element a at 0x214367b71d0>, 'href', '/downloads/', 0), (<Element a at 0x214367b7090>, 'href', '/downloads/', 0), (<Element a at 0x214367b70e0>, 'href', '/downloads/source/', 0), (<Element a at 0x214367b7220>, 'href', '/downloads/windows/', 0), (<Element a at 0x214367b7310>, 'href', '/downloads/mac-osx/', 0), (<Element a at 0x214367b7400>, 'href', '/download/other/', 0), (<Element a at 0x214367b7630>, 'href', 'https://docs.python.org/3/license.html', 0), (<Element a at 0x214367b7590>, 'href', '/download/alternatives', 0), (<Element a at 0x214367b7860>, 'href', '/doc/', 0), (<Element a at 0x214367b7720>, 'href', '/doc/', 0), (<Element a at 0x214367b7900>, 'href', '/doc/av', 0), (<Element a at 0x214367b7810>, 'href', 'https://wiki.python.org/moin/BeginnersGuide', 0), (<Element a at 0x214367b79a0>, 'href', 'https://devguide.python.org/', 0), (<Element a at 0x214367b79f0>, 'href', 'https://docs.python.org/faq/', 0), (<Element a at 0x214367b7c20>, 'href', 'http://wiki.python.org/moin/Languages', 0), (<Element a at 0x214367b7b80>, 'href', 'http://python.org/dev/peps/', 0), (<Element a at 0x214367b7db0>, 'href', 'https://wiki.python.org/moin/PythonBooks', 0), (<Element a at 0x214367b7d10>, 'href', '/doc/essays/', 0), (<Element a at 0x214367b7e50>, 'href', '/community/', 0), (<Element a at 0x214367b7f40>, 'href', '/community/survey', 0), (<Element a at 0x2143660a040>, 'href', '/community/diversity/', 0), (<Element a at 0x2143660a090>, 'href', '/community/lists/', 0), (<Element a at 0x2143660a2c0>, 'href', '/community/irc/', 0), (<Element a at 0x2143660a220>, 'href', '/community/forums/', 0), (<Element a at 0x2143660a310>, 'href', '/psf/annual-report/2020/', 0), (<Element a at 0x2143660a400>, 'href', '/community/workshops/', 0), (<Element a at 0x2143660a4f0>, 'href', '/community/sigs/', 0), (<Element a at 0x2143660a5e0>, 'href', '/community/logos/', 0), (<Element a at 0x2143660a6d0>, 'href', 'https://wiki.python.org/moin/', 0), (<Element a at 0x2143660a7c0>, 'href', '/community/merchandise/', 0), (<Element a at 0x2143660a8b0>, 'href', '/community/awards', 0), (<Element a at 0x2143660aae0>, 'href', '/psf/conduct/', 0), (<Element a at 0x2143660aa40>, 'href', '/psf/get-involved/', 0), (<Element a at 0x2143660ab30>, 'href', '/success-stories/', 0), (<Element a at 0x2143660ad10>, 'href', '/success-stories/category/arts/', 0), (<Element a at 0x2143660adb0>, 'href', '/success-stories/category/business/', 0), (<Element a at 0x2143660ae50>, 'href', '/success-stories/category/education/', 0), (<Element a at 0x2143660aef0>, 'href', '/success-stories/category/engineering/', 0), (<Element a at 0x2143660af90>, 'href', '/success-stories/category/government/', 0), (<Element a at 0x21436632090>, 'href', '/success-stories/category/scientific/', 0), (<Element a at 0x21436632130>, 'href', '/success-stories/category/software-development/', 0), (<Element a at 0x214366321d0>, 'href', '/blogs/', 0), (<Element a at 0x214366322c0>, 'href', '/blogs/', 0), (<Element a at 0x21436632310>, 'href', '/psf/newsletter/', 0), (<Element a at 0x21436632360>, 'href', 'http://planetpython.org/', 0), (<Element a at 0x21436632450>, 'href', 'http://pyfound.blogspot.com/', 0), (<Element a at 0x21436632540>, 'href', 'http://pycon.blogspot.com/', 0), (<Element a at 0x21436632720>, 'href', '/events/', 0), (<Element a at 0x21436632770>, 'href', '/events/python-events', 0), (<Element a at 0x214366326d0>, 'href', '/events/python-user-group/', 0), (<Element a at 0x214366328b0>, 'href', '/events/python-events/past/', 0), (<Element a at 0x214366329a0>, 'href', '/events/python-user-group/past/', 0), (<Element a at 0x21436632bd0>, 'href', 'https://wiki.python.org/moin/PythonEventsCalendar#Submitting_an_Event', 0), (<Element a at 0x21436632b30>, 'href', '/dev/', 0), (<Element a at 0x21436632c70>, 'href', 'https://devguide.python.org/', 0), (<Element a at 0x21436632cc0>, 'href', 'https://bugs.python.org/', 0), (<Element a at 0x21436632ef0>, 'href', 'https://mail.python.org/mailman/listinfo/python-dev', 0), (<Element a at 0x21436632e50>, 'href', '/dev/core-mentorship/', 0), (<Element a at 0x21436638040>, 'href', '/dev/security/', 0), (<Element a at 0x21436638090>, 'href', '#python-network', 0), (<Element a at 0x214366380e0>, 'href', '/about/help/', 0), (<Element a at 0x21436638270>, 'href', '/community/diversity/', 0), (<Element a at 0x21436638360>, 'href', 'https://github.com/python/pythondotorg/issues', 0), (<Element a at 0x214366383b0>, 'href', 'https://status.python.org/', 0), (<Element a at 0x21436638400>, 'href', '/psf-landing/', 0), (<Element a at 0x214366385e0>, 'href', '/about/legal/', 0), (<Element a at 0x21436638540>, 'href', '/privacy/', 0), (<Element a at 0x21436638680>, 'href', '/psf/sponsorship/sponsors/#heroku', 0), (<Element script at 0x21436638860>, 'src', '//ajax.googleapis.com/ajax/libs/jquery/1.8.2/jquery.min.js', 0), (<Element script at 0x214366386d0>, 'src', '/static/js/libs/masonry.pkgd.min.js', 0), (<Element script at 0x214366387c0>, 'src', '/static/js/libs/html-includes.js', 0), (<Element script at 0x21436638810>, 'src', '/static/js/main-min.54f74dc425e5.js', 0)]\n"
     ]
    }
   ],
   "source": [
    "for text in tree.cssselect(\"div.shrubbery\"):\n",
    "    print([l for l in tree.iterlinks()])"
   ]
  },
  {
   "cell_type": "markdown",
   "metadata": {},
   "source": [
    "##### What is the text in the code elements?"
   ]
  },
  {
   "cell_type": "code",
   "execution_count": 52,
   "metadata": {},
   "outputs": [
    {
     "name": "stdout",
     "output_type": "stream",
     "text": [
      "# Python 3: Fibonacci series up to n\r\n",
      ">>> def fib(n):\r\n",
      ">>>     a, b = 0, 1\r\n",
      ">>>     while a < n:\r\n",
      ">>>         print(a, end=' ')\r\n",
      ">>>         a, b = b, a+b\r\n",
      ">>>     print()\r\n",
      ">>> fib(1000)\r\n",
      "0 1 1 2 3 5 8 13 21 34 55 89 144 233 377 610 987\n",
      "# Python 3: List comprehensions\r\n",
      ">>> fruits = ['Banana', 'Apple', 'Lime']\r\n",
      ">>> loud_fruits = [fruit.upper() for fruit in fruits]\r\n",
      ">>> print(loud_fruits)\r\n",
      "['BANANA', 'APPLE', 'LIME']\r\n",
      "\r\n",
      "# List and the enumerate function\r\n",
      ">>> list(enumerate(fruits))\r\n",
      "[(0, 'Banana'), (1, 'Apple'), (2, 'Lime')]\n",
      "# Python 3: Simple arithmetic\r\n",
      ">>> 1 / 2\r\n",
      "0.5\r\n",
      ">>> 2 ** 3\r\n",
      "8\r\n",
      ">>> 17 / 3  # classic division returns a float\r\n",
      "5.666666666666667\r\n",
      ">>> 17 // 3  # floor division\r\n",
      "5\n",
      "+\n",
      "-\n",
      "*\n",
      "/\n",
      "()\n",
      "# Python 3: Simple output (with Unicode)\r\n",
      ">>> print(\"Hello, I'm Python!\")\r\n",
      "Hello, I'm Python!\r\n",
      "\r\n",
      "# Input, assignment\r\n",
      ">>> name = input('What is your name?\\n')\r\n",
      ">>> print('Hi, %s.' % name)\r\n",
      "What is your name?\r\n",
      "Python\r\n",
      "Hi, Python.\n",
      "# For loop on a list\r\n",
      ">>> numbers = [2, 4, 6, 8]\r\n",
      ">>> product = 1\r\n",
      ">>> for number in numbers:\r\n",
      "...    product = product * number\r\n",
      "... \r\n",
      ">>> print('The product is:', product)\r\n",
      "The product is: 384\n",
      "if\n",
      "for\n",
      "while\n",
      "range\n"
     ]
    }
   ],
   "source": [
    "for code in tree.cssselect(\"code\"):\n",
    "    print(code.text_content())"
   ]
  },
  {
   "cell_type": "code",
   "execution_count": 53,
   "metadata": {
    "scrolled": true
   },
   "outputs": [
    {
     "data": {
      "text/plain": [
       "[None,\n",
       " None,\n",
       " None,\n",
       " '+',\n",
       " '-',\n",
       " '*',\n",
       " '/',\n",
       " '()',\n",
       " None,\n",
       " None,\n",
       " 'if',\n",
       " 'for',\n",
       " 'while',\n",
       " 'range']"
      ]
     },
     "execution_count": 53,
     "metadata": {},
     "output_type": "execute_result"
    }
   ],
   "source": [
    "# OR\n",
    "[t.text for t in tree.cssselect(\"code\")]"
   ]
  },
  {
   "cell_type": "markdown",
   "metadata": {},
   "source": [
    "##### Are there any forms?"
   ]
  },
  {
   "cell_type": "code",
   "execution_count": 59,
   "metadata": {},
   "outputs": [
    {
     "data": {
      "text/plain": [
       "True"
      ]
     },
     "execution_count": 59,
     "metadata": {},
     "output_type": "execute_result"
    }
   ],
   "source": [
    "\"form\" in tree.text_content()"
   ]
  },
  {
   "cell_type": "code",
   "execution_count": 60,
   "metadata": {},
   "outputs": [
    {
     "data": {
      "text/plain": [
       "[<Element form at 0x21436696b30>]"
      ]
     },
     "execution_count": 60,
     "metadata": {},
     "output_type": "execute_result"
    }
   ],
   "source": [
    "# OR\n",
    "tree.forms"
   ]
  },
  {
   "cell_type": "code",
   "execution_count": 61,
   "metadata": {},
   "outputs": [
    {
     "data": {
      "text/plain": [
       "[<Element form at 0x21436696b30>]"
      ]
     },
     "execution_count": 61,
     "metadata": {},
     "output_type": "execute_result"
    }
   ],
   "source": [
    "# OR\n",
    "tree.cssselect(\"form\")"
   ]
  },
  {
   "cell_type": "code",
   "execution_count": null,
   "metadata": {},
   "outputs": [],
   "source": []
  }
 ],
 "metadata": {
  "kernelspec": {
   "display_name": "Python 3",
   "language": "python",
   "name": "python3"
  },
  "language_info": {
   "codemirror_mode": {
    "name": "ipython",
    "version": 3
   },
   "file_extension": ".py",
   "mimetype": "text/x-python",
   "name": "python",
   "nbconvert_exporter": "python",
   "pygments_lexer": "ipython3",
   "version": "3.8.4"
  }
 },
 "nbformat": 4,
 "nbformat_minor": 4
}

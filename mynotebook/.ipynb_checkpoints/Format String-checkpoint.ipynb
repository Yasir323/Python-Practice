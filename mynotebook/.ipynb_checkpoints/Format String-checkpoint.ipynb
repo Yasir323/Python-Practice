{
 "cells": [
  {
   "cell_type": "markdown",
   "metadata": {},
   "source": [
    "# Master the Format string"
   ]
  },
  {
   "cell_type": "markdown",
   "metadata": {},
   "source": [
    "## Basic Formatting"
   ]
  },
  {
   "cell_type": "code",
   "execution_count": 1,
   "metadata": {},
   "outputs": [
    {
     "name": "stdout",
     "output_type": "stream",
     "text": [
      "one two\n"
     ]
    }
   ],
   "source": [
    "print('{} {}'.format('one', 'two'))"
   ]
  },
  {
   "cell_type": "code",
   "execution_count": 2,
   "metadata": {},
   "outputs": [
    {
     "name": "stdout",
     "output_type": "stream",
     "text": [
      "1 2\n"
     ]
    }
   ],
   "source": [
    "print('{} {}'.format(1, 2))"
   ]
  },
  {
   "cell_type": "markdown",
   "metadata": {},
   "source": [
    "Using Positional index"
   ]
  },
  {
   "cell_type": "code",
   "execution_count": 3,
   "metadata": {},
   "outputs": [
    {
     "name": "stdout",
     "output_type": "stream",
     "text": [
      "two one\n"
     ]
    }
   ],
   "source": [
    "print(\"{1} {0}\".format('one', 'two'))"
   ]
  },
  {
   "cell_type": "code",
   "execution_count": 4,
   "metadata": {},
   "outputs": [
    {
     "name": "stdout",
     "output_type": "stream",
     "text": [
      "str repr\n"
     ]
    }
   ],
   "source": [
    "class Data(object):\n",
    "\n",
    "    def __str__(self):\n",
    "        return 'str'\n",
    "\n",
    "    def __repr__(self):\n",
    "        return 'repr'\n",
    "    \n",
    "print('{0!s} {0!r}'.format(Data()))"
   ]
  },
  {
   "cell_type": "markdown",
   "metadata": {},
   "source": [
    "In Python 3 there exists an additional conversion flag that uses the output of repr(...) but uses ascii(...) instead."
   ]
  },
  {
   "cell_type": "markdown",
   "metadata": {},
   "source": [
    "## Padding and aligning strings"
   ]
  },
  {
   "cell_type": "markdown",
   "metadata": {},
   "source": [
    "1. Right allign"
   ]
  },
  {
   "cell_type": "code",
   "execution_count": 7,
   "metadata": {},
   "outputs": [
    {
     "name": "stdout",
     "output_type": "stream",
     "text": [
      "       0       1       4\n",
      "     0.0     0.5     1.0"
     ]
    }
   ],
   "source": [
    "ls1 = [x**2 for x in range(3)]\n",
    "ls2 = [x/2 for x in range(3)]\n",
    "for i in range(3):\n",
    "    print(f'{ls1[i]:>8}', end=\"\")\n",
    "print()\n",
    "for i in range(3):\n",
    "    print(f'{ls2[i]:>8}', end=\"\")"
   ]
  },
  {
   "cell_type": "markdown",
   "metadata": {},
   "source": [
    "2. Left allign"
   ]
  },
  {
   "cell_type": "code",
   "execution_count": 8,
   "metadata": {},
   "outputs": [
    {
     "name": "stdout",
     "output_type": "stream",
     "text": [
      "test      \n"
     ]
    }
   ],
   "source": [
    "print('{:10}'.format('test'))"
   ]
  },
  {
   "cell_type": "markdown",
   "metadata": {},
   "source": [
    "OR"
   ]
  },
  {
   "cell_type": "code",
   "execution_count": 9,
   "metadata": {},
   "outputs": [
    {
     "name": "stdout",
     "output_type": "stream",
     "text": [
      "test      \n"
     ]
    }
   ],
   "source": [
    "print('{:<10}'.format('test'))"
   ]
  },
  {
   "cell_type": "code",
   "execution_count": 11,
   "metadata": {},
   "outputs": [
    {
     "name": "stdout",
     "output_type": "stream",
     "text": [
      "0       1       4       \n",
      "0.0     0.5     1.0     "
     ]
    }
   ],
   "source": [
    "ls1 = [x**2 for x in range(3)]\n",
    "ls2 = [x/2 for x in range(3)]\n",
    "for i in range(3):\n",
    "    print(f'{ls1[i]:<8}', end=\"\")\n",
    "print()\n",
    "for i in range(3):\n",
    "    print(f'{ls2[i]:<8}', end=\"\")"
   ]
  },
  {
   "cell_type": "code",
   "execution_count": 12,
   "metadata": {},
   "outputs": [
    {
     "name": "stdout",
     "output_type": "stream",
     "text": [
      "test______\n"
     ]
    }
   ],
   "source": [
    "print('{:_<10}'.format('test'))"
   ]
  },
  {
   "cell_type": "code",
   "execution_count": 13,
   "metadata": {},
   "outputs": [
    {
     "name": "stdout",
     "output_type": "stream",
     "text": [
      "______test\n"
     ]
    }
   ],
   "source": [
    "print('{:_>10}'.format('test'))"
   ]
  },
  {
   "cell_type": "markdown",
   "metadata": {},
   "source": [
    "3. Centre allign"
   ]
  },
  {
   "cell_type": "code",
   "execution_count": 15,
   "metadata": {},
   "outputs": [
    {
     "name": "stdout",
     "output_type": "stream",
     "text": [
      "    zip     \n"
     ]
    }
   ],
   "source": [
    "print('{:^12}'.format('zip'))"
   ]
  },
  {
   "cell_type": "code",
   "execution_count": 16,
   "metadata": {},
   "outputs": [
    {
     "name": "stdout",
     "output_type": "stream",
     "text": [
      "____zip_____\n"
     ]
    }
   ],
   "source": [
    "print('{:_^12}'.format('zip'))"
   ]
  },
  {
   "cell_type": "code",
   "execution_count": 17,
   "metadata": {},
   "outputs": [
    {
     "name": "stdout",
     "output_type": "stream",
     "text": [
      "----zip-----\n"
     ]
    }
   ],
   "source": [
    "print('{:-^12}'.format('zip'))"
   ]
  },
  {
   "cell_type": "code",
   "execution_count": 18,
   "metadata": {},
   "outputs": [
    {
     "name": "stdout",
     "output_type": "stream",
     "text": [
      "$$$$zip$$$$$\n"
     ]
    }
   ],
   "source": [
    "print('{:$^12}'.format('zip'))"
   ]
  },
  {
   "cell_type": "code",
   "execution_count": 19,
   "metadata": {},
   "outputs": [
    {
     "name": "stdout",
     "output_type": "stream",
     "text": [
      "````zip`````\n"
     ]
    }
   ],
   "source": [
    "print('{:`^12}'.format('zip'))"
   ]
  },
  {
   "cell_type": "markdown",
   "metadata": {},
   "source": [
    "*I think you get the idea now.*"
   ]
  },
  {
   "cell_type": "markdown",
   "metadata": {},
   "source": [
    "## Truncating long strings"
   ]
  },
  {
   "cell_type": "code",
   "execution_count": 20,
   "metadata": {},
   "outputs": [
    {
     "name": "stdout",
     "output_type": "stream",
     "text": [
      "xylop\n"
     ]
    }
   ],
   "source": [
    "print('{:.5}'.format('xylophone'))"
   ]
  },
  {
   "cell_type": "markdown",
   "metadata": {},
   "source": [
    "## Combining truncating and padding"
   ]
  },
  {
   "cell_type": "code",
   "execution_count": 28,
   "metadata": {},
   "outputs": [
    {
     "name": "stdout",
     "output_type": "stream",
     "text": [
      "xylop-----\n"
     ]
    }
   ],
   "source": [
    "print('{:-<10.5}'.format('xylophone'))"
   ]
  },
  {
   "cell_type": "markdown",
   "metadata": {},
   "source": [
    "## Numbers"
   ]
  },
  {
   "cell_type": "code",
   "execution_count": 33,
   "metadata": {},
   "outputs": [
    {
     "name": "stdout",
     "output_type": "stream",
     "text": [
      "42\n"
     ]
    }
   ],
   "source": [
    "print('{:d}'.format(42))"
   ]
  },
  {
   "cell_type": "markdown",
   "metadata": {},
   "source": [
    "### Floats"
   ]
  },
  {
   "cell_type": "code",
   "execution_count": 32,
   "metadata": {},
   "outputs": [
    {
     "name": "stdout",
     "output_type": "stream",
     "text": [
      "3.141593\n"
     ]
    }
   ],
   "source": [
    "print('{:f}'.format(3.141592653589793))"
   ]
  },
  {
   "cell_type": "code",
   "execution_count": 31,
   "metadata": {},
   "outputs": [
    {
     "name": "stdout",
     "output_type": "stream",
     "text": [
      "3.000000\n"
     ]
    }
   ],
   "source": [
    "print('{:f}'.format(3))"
   ]
  },
  {
   "cell_type": "markdown",
   "metadata": {},
   "source": [
    "## Padding numbers"
   ]
  },
  {
   "cell_type": "code",
   "execution_count": 35,
   "metadata": {},
   "outputs": [
    {
     "name": "stdout",
     "output_type": "stream",
     "text": [
      "                                      42\n"
     ]
    }
   ],
   "source": [
    "print('{:40d}'.format(42))"
   ]
  },
  {
   "cell_type": "markdown",
   "metadata": {},
   "source": [
    "**Note:** *Numbers are aligning to right*"
   ]
  },
  {
   "cell_type": "code",
   "execution_count": 38,
   "metadata": {},
   "outputs": [
    {
     "name": "stdout",
     "output_type": "stream",
     "text": [
      "003.14\n"
     ]
    }
   ],
   "source": [
    "print('{:06.2f}'.format(3.141592653589793))"
   ]
  },
  {
   "cell_type": "code",
   "execution_count": 39,
   "metadata": {},
   "outputs": [
    {
     "name": "stdout",
     "output_type": "stream",
     "text": [
      "0042\n"
     ]
    }
   ],
   "source": [
    "print('{:04d}'.format(42))"
   ]
  },
  {
   "cell_type": "markdown",
   "metadata": {},
   "source": [
    "## Signed Numbers"
   ]
  },
  {
   "cell_type": "code",
   "execution_count": 40,
   "metadata": {},
   "outputs": [
    {
     "name": "stdout",
     "output_type": "stream",
     "text": [
      "+42\n"
     ]
    }
   ],
   "source": [
    "print('{:+d}'.format(42))"
   ]
  },
  {
   "cell_type": "markdown",
   "metadata": {},
   "source": [
    "Use a space character to indicate that negative numbers should be prefixed with a minus symbol and a leading space should be used for positive ones."
   ]
  },
  {
   "cell_type": "code",
   "execution_count": 41,
   "metadata": {},
   "outputs": [
    {
     "name": "stdout",
     "output_type": "stream",
     "text": [
      "-23\n"
     ]
    }
   ],
   "source": [
    "print('{: d}'.format((- 23)))"
   ]
  },
  {
   "cell_type": "code",
   "execution_count": 43,
   "metadata": {},
   "outputs": [
    {
     "name": "stdout",
     "output_type": "stream",
     "text": [
      " 42\n"
     ]
    }
   ],
   "source": [
    "print('{: d}'.format(42))"
   ]
  },
  {
   "cell_type": "markdown",
   "metadata": {},
   "source": [
    "New style formatting is also able to control the position of the sign symbol relative to the padding."
   ]
  },
  {
   "cell_type": "code",
   "execution_count": 44,
   "metadata": {},
   "outputs": [
    {
     "name": "stdout",
     "output_type": "stream",
     "text": [
      "-  23\n"
     ]
    }
   ],
   "source": [
    "print('{:=5d}'.format((- 23)))"
   ]
  },
  {
   "cell_type": "code",
   "execution_count": 45,
   "metadata": {},
   "outputs": [
    {
     "name": "stdout",
     "output_type": "stream",
     "text": [
      "+  23\n"
     ]
    }
   ],
   "source": [
    "print('{:=+5d}'.format(23))"
   ]
  },
  {
   "cell_type": "markdown",
   "metadata": {},
   "source": [
    "## Named placeholders"
   ]
  },
  {
   "cell_type": "code",
   "execution_count": 47,
   "metadata": {},
   "outputs": [
    {
     "name": "stdout",
     "output_type": "stream",
     "text": [
      "BYE HI\n"
     ]
    }
   ],
   "source": [
    "print('{last} {first}'.format(first='HI', last='BYE'))"
   ]
  },
  {
   "cell_type": "markdown",
   "metadata": {},
   "source": [
    "## Getitem and Getattr"
   ]
  },
  {
   "cell_type": "code",
   "execution_count": 48,
   "metadata": {},
   "outputs": [
    {
     "name": "stdout",
     "output_type": "stream",
     "text": [
      "Jean-Luc Picard\n"
     ]
    }
   ],
   "source": [
    "person = {'first': 'Jean-Luc', 'last': 'Picard'}\n",
    "print('{p[first]} {p[last]}'.format(p=person))"
   ]
  },
  {
   "cell_type": "code",
   "execution_count": 49,
   "metadata": {},
   "outputs": [
    {
     "name": "stdout",
     "output_type": "stream",
     "text": [
      "23 42\n"
     ]
    }
   ],
   "source": [
    "data = [4, 8, 15, 16, 23, 42]\n",
    "print('{d[4]} {d[5]}'.format(d=data))"
   ]
  },
  {
   "cell_type": "code",
   "execution_count": 50,
   "metadata": {},
   "outputs": [
    {
     "name": "stdout",
     "output_type": "stream",
     "text": [
      "tree\n"
     ]
    }
   ],
   "source": [
    "class Plant(object):\n",
    "    type = 'tree'\n",
    "print('{p.type}'.format(p=Plant()))"
   ]
  },
  {
   "cell_type": "code",
   "execution_count": 51,
   "metadata": {},
   "outputs": [
    {
     "name": "stdout",
     "output_type": "stream",
     "text": [
      "tree: oak\n"
     ]
    }
   ],
   "source": [
    "class Plant(object):\n",
    "    type = 'tree'\n",
    "    kinds = [{'name': 'oak'}, {'name': 'maple'}]\n",
    "print('{p.type}: {p.kinds[0][name]}'.format(p=Plant()))"
   ]
  },
  {
   "cell_type": "markdown",
   "metadata": {},
   "source": [
    "## Datetime"
   ]
  },
  {
   "cell_type": "code",
   "execution_count": 55,
   "metadata": {},
   "outputs": [
    {
     "name": "stdout",
     "output_type": "stream",
     "text": [
      "2020-06-25 13:40\n"
     ]
    }
   ],
   "source": [
    "from datetime import datetime as dt\n",
    "print('{:%Y-%m-%d %H:%M}'.format(dt.today()))"
   ]
  },
  {
   "cell_type": "markdown",
   "metadata": {},
   "source": [
    "## Parametrized formats\n",
    "Additionally, new style formatting allows all of the components of the format to be specified dynamically using parametrization. Parametrized formats are nested expressions in braces that can appear anywhere in the parent format after the colon."
   ]
  },
  {
   "cell_type": "code",
   "execution_count": 56,
   "metadata": {},
   "outputs": [
    {
     "name": "stdout",
     "output_type": "stream",
     "text": [
      "   test   \n"
     ]
    }
   ],
   "source": [
    "print('{:{align}{width}}'.format('test', align='^', width='10'))"
   ]
  },
  {
   "cell_type": "code",
   "execution_count": 57,
   "metadata": {},
   "outputs": [
    {
     "name": "stdout",
     "output_type": "stream",
     "text": [
      "Gib = 2.718\n"
     ]
    }
   ],
   "source": [
    "print('%.*s = %.*f' % (3, 'Gibberish', 3, 2.7182))"
   ]
  },
  {
   "cell_type": "code",
   "execution_count": 59,
   "metadata": {},
   "outputs": [
    {
     "name": "stdout",
     "output_type": "stream",
     "text": [
      "Gib = 2.718\n"
     ]
    }
   ],
   "source": [
    "print('{:.{prec}} = {:.{prec}f}'.format('Gibberish', 2.7182, prec=3))"
   ]
  },
  {
   "cell_type": "code",
   "execution_count": 60,
   "metadata": {},
   "outputs": [
    {
     "name": "stdout",
     "output_type": "stream",
     "text": [
      " 2.72\n"
     ]
    }
   ],
   "source": [
    "print('{:{width}.{prec}f}'.format(2.7182, width=5, prec=2))"
   ]
  },
  {
   "cell_type": "code",
   "execution_count": 61,
   "metadata": {},
   "outputs": [
    {
     "name": "stdout",
     "output_type": "stream",
     "text": [
      "Gib = 2.72\n"
     ]
    }
   ],
   "source": [
    "print('{:{prec}} = {:{prec}}'.format('Gibberish', 2.7182, prec='.3'))"
   ]
  },
  {
   "cell_type": "code",
   "execution_count": 62,
   "metadata": {},
   "outputs": [
    {
     "name": "stdout",
     "output_type": "stream",
     "text": [
      "2001-02-03 04:05\n"
     ]
    }
   ],
   "source": [
    "from datetime import datetime\n",
    "dt = datetime(2001, 2, 3, 4, 5)\n",
    "print('{:{dfmt} {tfmt}}'.format(dt, dfmt='%Y-%m-%d', tfmt='%H:%M'))"
   ]
  },
  {
   "cell_type": "code",
   "execution_count": 63,
   "metadata": {},
   "outputs": [
    {
     "name": "stdout",
     "output_type": "stream",
     "text": [
      "     +2.72\n"
     ]
    }
   ],
   "source": [
    "print('{:{}{}{}.{}}'.format(2.7182818284, '>', '+', 10, 3))"
   ]
  },
  {
   "cell_type": "markdown",
   "metadata": {},
   "source": [
    "It is the same as:"
   ]
  },
  {
   "cell_type": "code",
   "execution_count": 68,
   "metadata": {},
   "outputs": [
    {
     "name": "stdout",
     "output_type": "stream",
     "text": [
      "     +2.72\n"
     ]
    }
   ],
   "source": [
    "print('{:>+10.3}'.format(2.7182818284, '>', '+', 10, 3))"
   ]
  },
  {
   "cell_type": "code",
   "execution_count": 69,
   "metadata": {},
   "outputs": [
    {
     "name": "stdout",
     "output_type": "stream",
     "text": [
      "     +2.72\n"
     ]
    }
   ],
   "source": [
    "print('{:{}{sign}{}.{}}'.format(2.7182818284, '>', 10, 3, sign='+'))"
   ]
  },
  {
   "cell_type": "markdown",
   "metadata": {},
   "source": [
    "## Custom objects\n",
    "The datetime example works through the use of the __format__() magic method. You can define custom format handling in your own objects by overriding this method. This gives you complete control over the format syntax used."
   ]
  },
  {
   "cell_type": "code",
   "execution_count": 70,
   "metadata": {},
   "outputs": [
    {
     "name": "stdout",
     "output_type": "stream",
     "text": [
      "I'm afraid I can't do that.\n"
     ]
    }
   ],
   "source": [
    "class HAL9000(object):\n",
    "\n",
    "    def __format__(self, format):\n",
    "        if (format == 'open-the-pod-bay-doors'):\n",
    "            return \"I'm afraid I can't do that.\"\n",
    "        return 'HAL 9000'\n",
    "print('{:open-the-pod-bay-doors}'.format(HAL9000()))"
   ]
  },
  {
   "cell_type": "code",
   "execution_count": null,
   "metadata": {},
   "outputs": [],
   "source": []
  }
 ],
 "metadata": {
  "kernelspec": {
   "display_name": "Python 3",
   "language": "python",
   "name": "python3"
  },
  "language_info": {
   "codemirror_mode": {
    "name": "ipython",
    "version": 3
   },
   "file_extension": ".py",
   "mimetype": "text/x-python",
   "name": "python",
   "nbconvert_exporter": "python",
   "pygments_lexer": "ipython3",
   "version": "3.8.3"
  }
 },
 "nbformat": 4,
 "nbformat_minor": 4
}

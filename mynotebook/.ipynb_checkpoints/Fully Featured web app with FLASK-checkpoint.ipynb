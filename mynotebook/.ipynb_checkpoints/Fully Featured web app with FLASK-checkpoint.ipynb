{
 "cells": [
  {
   "cell_type": "markdown",
   "metadata": {},
   "source": [
    "# Getting started\n",
    "### Do this first\n",
    "1. Create a virtual environment\n",
    "2. Create a new folder named \"flaskblog\"\n",
    "3. Now open sublime and make a file \"flaskblog.py\" and write in the following code."
   ]
  },
  {
   "cell_type": "raw",
   "metadata": {},
   "source": [
    "from flask import Flask\n",
    "app = Flask(__name__)\n",
    "\n",
    "\n",
    "@app.route(\"/\")     # This \"/\" is the root or home page of our webapp\n",
    "def home():\n",
    "    return \"<h1>Hello World!</h1>\""
   ]
  },
  {
   "cell_type": "markdown",
   "metadata": {},
   "source": [
    "Now set the flask app to flaskblog.py and run"
   ]
  },
  {
   "cell_type": "markdown",
   "metadata": {},
   "source": [
    "**In cmd:**    "
   ]
  },
  {
   "cell_type": "raw",
   "metadata": {},
   "source": [
    "set FLASk_APP=flaskblog.py\n",
    "flask run"
   ]
  },
  {
   "cell_type": "markdown",
   "metadata": {},
   "source": [
    "**In Powershell:**"
   ]
  },
  {
   "cell_type": "raw",
   "metadata": {},
   "source": [
    "$env:FLASK_APP=flaskblog.py\n",
    "python -m flask run"
   ]
  },
  {
   "cell_type": "markdown",
   "metadata": {},
   "source": [
    "## Debug mode"
   ]
  },
  {
   "cell_type": "markdown",
   "metadata": {},
   "source": [
    "Now make some changes to the file, and for the changes to take effect we'll have to close the server using CTRL+C in Powershell, then run it again. But we can avoid that if we run the app in debug mode.\n",
    "To run the app in debug mode type the following in Powershell:"
   ]
  },
  {
   "cell_type": "raw",
   "metadata": {},
   "source": [
    "$env:FLASK_DEBUG=1"
   ]
  },
  {
   "cell_type": "markdown",
   "metadata": {},
   "source": [
    "Or in cmd use:\n",
    "set FLASK_DEBUG=1"
   ]
  },
  {
   "cell_type": "markdown",
   "metadata": {},
   "source": [
    "A better way to run debug mode: Make following change in the file flaskblog.py"
   ]
  },
  {
   "cell_type": "raw",
   "metadata": {},
   "source": [
    "from flask import Flask\n",
    "app = Flask(__name__)\n",
    "\n",
    "\n",
    "@app.route(\"/\")     # This \"/\" is the root or home page of our webapp\n",
    "def home():\n",
    "    return \"<h1>Hello World!</h1>\"\n",
    "\n",
    "if __name__ == '__main__':\n",
    "    app.run(debug=True)"
   ]
  },
  {
   "cell_type": "markdown",
   "metadata": {},
   "source": [
    "## Adding Pages to the app"
   ]
  },
  {
   "cell_type": "markdown",
   "metadata": {},
   "source": [
    "To add the about page"
   ]
  },
  {
   "cell_type": "raw",
   "metadata": {},
   "source": [
    "from flask import Flask\n",
    "app = Flask(__name__)\n",
    "\n",
    "\n",
    "@app.route(\"/\")     # This \"/\" is the root or home page of our webapp\n",
    "@app.route(\"/home\")  # Another way to home, nothing new here\n",
    "def home():\n",
    "    return \"<h1>Hello World!</h1>\"\n",
    "\n",
    "@app.route(\"/about\")\n",
    "def about():\n",
    "    return \"<h2>About Page</h2>\"\n",
    "\n",
    "if __name__ == '__main__':\n",
    "    app.run(debug=True)"
   ]
  },
  {
   "cell_type": "code",
   "execution_count": null,
   "metadata": {},
   "outputs": [],
   "source": []
  }
 ],
 "metadata": {
  "kernelspec": {
   "display_name": "Python 3",
   "language": "python",
   "name": "python3"
  },
  "language_info": {
   "codemirror_mode": {
    "name": "ipython",
    "version": 3
   },
   "file_extension": ".py",
   "mimetype": "text/x-python",
   "name": "python",
   "nbconvert_exporter": "python",
   "pygments_lexer": "ipython3",
   "version": "3.8.3"
  }
 },
 "nbformat": 4,
 "nbformat_minor": 4
}

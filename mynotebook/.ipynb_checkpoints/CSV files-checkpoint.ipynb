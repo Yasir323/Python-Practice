{
 "cells": [
  {
   "cell_type": "markdown",
   "metadata": {},
   "source": [
    "# Reading a file"
   ]
  },
  {
   "cell_type": "markdown",
   "metadata": {},
   "source": [
    "## Here's the tutorial:\n",
    "https://www.youtube.com/watch?v=q5uM4VKywbA"
   ]
  },
  {
   "cell_type": "code",
   "execution_count": 13,
   "metadata": {},
   "outputs": [
    {
     "name": "stdout",
     "output_type": "stream",
     "text": [
      "['first_name', 'last_name', 'email']\n",
      "['John', 'Doe', 'john-doe@bogusemail.com']\n",
      "['Mary', 'Smith-Robinson', 'maryjacobs@bogusemail.com']\n",
      "['Dave', 'Smith', 'davesmith@bogusemail.com']\n",
      "['Jane', 'Stuart', 'janestuart@bogusemail.com']\n",
      "['Tom', 'Wright', 'tomwright@bogusemail.com']\n"
     ]
    }
   ],
   "source": [
    "import csv\n",
    "with open('names.csv', 'r') as csv_file:\n",
    "    csv_reader = csv.reader(csv_file)    # Reads a line\n",
    "    for line in csv_reader:\n",
    "        print(line)    "
   ]
  },
  {
   "cell_type": "markdown",
   "metadata": {},
   "source": [
    "## If we only want tp see the list of the emails"
   ]
  },
  {
   "cell_type": "code",
   "execution_count": 14,
   "metadata": {},
   "outputs": [
    {
     "name": "stdout",
     "output_type": "stream",
     "text": [
      "john-doe@bogusemail.com\n",
      "maryjacobs@bogusemail.com\n",
      "davesmith@bogusemail.com\n",
      "janestuart@bogusemail.com\n",
      "tomwright@bogusemail.com\n"
     ]
    }
   ],
   "source": [
    "import csv\n",
    "with open('names.csv', 'r') as csv_file:\n",
    "    csv_reader = csv.reader(csv_file)    # Reads a line\n",
    "    next(csv_reader)    # Skips over the first line\n",
    "    for line in csv_reader:\n",
    "        print(line[2])    # Only reads emails    "
   ]
  },
  {
   "cell_type": "markdown",
   "metadata": {},
   "source": [
    "# Writing to a file"
   ]
  },
  {
   "cell_type": "code",
   "execution_count": 15,
   "metadata": {},
   "outputs": [],
   "source": [
    "import csv\n",
    "with open('names.csv', 'r') as csv_file:\n",
    "    csv_reader = csv.reader(csv_file)\n",
    "    with open('new_names.csv', 'w') as new_file:\n",
    "        csv_writer = csv.writer(new_file, delimiter = '\\t')\n",
    "        # delimiter will replace commas by tabs here\n",
    "        for line in csv_reader:\n",
    "            csv_writer.writerow(line)        "
   ]
  },
  {
   "cell_type": "markdown",
   "metadata": {},
   "source": [
    "Now, if we try to read this file without explicitly mentioning the tab delimiter, Python will read every line as a single string."
   ]
  },
  {
   "cell_type": "code",
   "execution_count": 16,
   "metadata": {},
   "outputs": [
    {
     "name": "stdout",
     "output_type": "stream",
     "text": [
      "['first_name\\tlast_name\\temail']\n",
      "[]\n",
      "['John\\tDoe\\tjohn-doe@bogusemail.com']\n",
      "[]\n",
      "['Mary\\tSmith-Robinson\\tmaryjacobs@bogusemail.com']\n",
      "[]\n",
      "['Dave\\tSmith\\tdavesmith@bogusemail.com']\n",
      "[]\n",
      "['Jane\\tStuart\\tjanestuart@bogusemail.com']\n",
      "[]\n",
      "['Tom\\tWright\\ttomwright@bogusemail.com']\n",
      "[]\n"
     ]
    }
   ],
   "source": [
    "import csv\n",
    "with open('new_names.csv', 'r') as csv_file:\n",
    "    csv_reader = csv.reader(csv_file)\n",
    "    for line in csv_reader:\n",
    "        print(line)"
   ]
  },
  {
   "cell_type": "markdown",
   "metadata": {},
   "source": [
    "To solve the problem, mention the delimiter:"
   ]
  },
  {
   "cell_type": "code",
   "execution_count": 17,
   "metadata": {},
   "outputs": [
    {
     "name": "stdout",
     "output_type": "stream",
     "text": [
      "['first_name', 'last_name', 'email']\n",
      "[]\n",
      "['John', 'Doe', 'john-doe@bogusemail.com']\n",
      "[]\n",
      "['Mary', 'Smith-Robinson', 'maryjacobs@bogusemail.com']\n",
      "[]\n",
      "['Dave', 'Smith', 'davesmith@bogusemail.com']\n",
      "[]\n",
      "['Jane', 'Stuart', 'janestuart@bogusemail.com']\n",
      "[]\n",
      "['Tom', 'Wright', 'tomwright@bogusemail.com']\n",
      "[]\n"
     ]
    }
   ],
   "source": [
    "import csv\n",
    "with open('new_names.csv', 'r') as csv_file:\n",
    "    csv_reader = csv.reader(csv_file, delimiter = '\\t')\n",
    "    for line in csv_reader:\n",
    "        print(line)"
   ]
  },
  {
   "cell_type": "markdown",
   "metadata": {},
   "source": [
    "# Using dictionary"
   ]
  },
  {
   "cell_type": "markdown",
   "metadata": {},
   "source": [
    "## Read"
   ]
  },
  {
   "cell_type": "code",
   "execution_count": 18,
   "metadata": {},
   "outputs": [
    {
     "name": "stdout",
     "output_type": "stream",
     "text": [
      "{'first_name': 'John', 'last_name': 'Doe', 'email': 'john-doe@bogusemail.com'}\n",
      "{'first_name': 'Mary', 'last_name': 'Smith-Robinson', 'email': 'maryjacobs@bogusemail.com'}\n",
      "{'first_name': 'Dave', 'last_name': 'Smith', 'email': 'davesmith@bogusemail.com'}\n",
      "{'first_name': 'Jane', 'last_name': 'Stuart', 'email': 'janestuart@bogusemail.com'}\n",
      "{'first_name': 'Tom', 'last_name': 'Wright', 'email': 'tomwright@bogusemail.com'}\n"
     ]
    }
   ],
   "source": [
    "import csv\n",
    "with open('names.csv', 'r') as csv_file:\n",
    "    csv_reader = csv.DictReader(csv_file)    # Reads a line\n",
    "    for line in csv_reader:\n",
    "        print(line)    "
   ]
  },
  {
   "cell_type": "markdown",
   "metadata": {},
   "source": [
    "Now it is more organised. We can easily print out the email field:"
   ]
  },
  {
   "cell_type": "code",
   "execution_count": 19,
   "metadata": {},
   "outputs": [
    {
     "name": "stdout",
     "output_type": "stream",
     "text": [
      "john-doe@bogusemail.com\n",
      "maryjacobs@bogusemail.com\n",
      "davesmith@bogusemail.com\n",
      "janestuart@bogusemail.com\n",
      "tomwright@bogusemail.com\n"
     ]
    }
   ],
   "source": [
    "import csv\n",
    "with open('names.csv', 'r') as csv_file:\n",
    "    csv_reader = csv.DictReader(csv_file)    # Reads a line\n",
    "    for line in csv_reader:\n",
    "        print(line['email'])"
   ]
  },
  {
   "cell_type": "markdown",
   "metadata": {},
   "source": [
    "## Write"
   ]
  },
  {
   "cell_type": "code",
   "execution_count": 20,
   "metadata": {},
   "outputs": [],
   "source": [
    "import csv\n",
    "with open('names.csv', 'r') as csv_file:\n",
    "    csv_reader = csv.DictReader(csv_file)\n",
    "    with open('new_names.csv', 'w') as new_file:\n",
    "        fieldnames = ['first_name', 'last_name', 'email']\n",
    "        csv_writer = csv.DictWriter(new_file, fieldnames = fieldnames, delimiter = '\\t')\n",
    "        # To write the field names as headers\n",
    "        csv_writer.writeheader()\n",
    "        for line in csv_reader:\n",
    "            csv_writer.writerow(line)        "
   ]
  },
  {
   "cell_type": "markdown",
   "metadata": {},
   "source": [
    "If we want, we can only add whatever field we want to add."
   ]
  },
  {
   "cell_type": "code",
   "execution_count": 21,
   "metadata": {},
   "outputs": [],
   "source": [
    "import csv\n",
    "with open('names.csv', 'r') as csv_file:\n",
    "    csv_reader = csv.DictReader(csv_file)\n",
    "    with open('new_names2.csv', 'w') as new_file:\n",
    "        fieldnames = ['first_name', 'last_name']\n",
    "        csv_writer = csv.DictWriter(new_file, fieldnames = fieldnames, delimiter = '\\t')\n",
    "        # To write the field names as headers\n",
    "        csv_writer.writeheader()\n",
    "        for line in csv_reader:\n",
    "            del line['email']\n",
    "            csv_writer.writerow(line)        "
   ]
  },
  {
   "cell_type": "code",
   "execution_count": null,
   "metadata": {},
   "outputs": [],
   "source": []
  }
 ],
 "metadata": {
  "kernelspec": {
   "display_name": "Python 3",
   "language": "python",
   "name": "python3"
  },
  "language_info": {
   "codemirror_mode": {
    "name": "ipython",
    "version": 3
   },
   "file_extension": ".py",
   "mimetype": "text/x-python",
   "name": "python",
   "nbconvert_exporter": "python",
   "pygments_lexer": "ipython3",
   "version": "3.8.3"
  }
 },
 "nbformat": 4,
 "nbformat_minor": 4
}

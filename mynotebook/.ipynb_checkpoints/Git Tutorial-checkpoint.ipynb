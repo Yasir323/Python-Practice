{
 "cells": [
  {
   "cell_type": "markdown",
   "metadata": {},
   "source": [
    "## Check version"
   ]
  },
  {
   "cell_type": "raw",
   "metadata": {},
   "source": [
    "git --version"
   ]
  },
  {
   "cell_type": "markdown",
   "metadata": {},
   "source": [
    "## Set Config list"
   ]
  },
  {
   "cell_type": "raw",
   "metadata": {},
   "source": [
    "git config --global user.name \"user name\""
   ]
  },
  {
   "cell_type": "raw",
   "metadata": {},
   "source": [
    "git config --global user.email \"user.name@email.com\""
   ]
  },
  {
   "cell_type": "raw",
   "metadata": {},
   "source": [
    "git config --list"
   ]
  },
  {
   "cell_type": "markdown",
   "metadata": {},
   "source": [
    "## Need Help"
   ]
  },
  {
   "cell_type": "raw",
   "metadata": {},
   "source": [
    "git help <command>"
   ]
  },
  {
   "cell_type": "raw",
   "metadata": {},
   "source": [
    "git <command> --help"
   ]
  },
  {
   "cell_type": "markdown",
   "metadata": {},
   "source": [
    "## Initialize a repository from existing code"
   ]
  },
  {
   "cell_type": "raw",
   "metadata": {},
   "source": [
    "git init"
   ]
  },
  {
   "cell_type": "markdown",
   "metadata": {},
   "source": [
    "## Before first commit, check status"
   ]
  },
  {
   "cell_type": "raw",
   "metadata": {},
   "source": [
    "git status"
   ]
  },
  {
   "cell_type": "markdown",
   "metadata": {},
   "source": [
    "## We can ignore some files and/or directories too"
   ]
  },
  {
   "cell_type": "raw",
   "metadata": {},
   "source": [
    "Make a file named '.gitignore' and then add the name of the files and directories in the following way:"
   ]
  },
  {
   "cell_type": "raw",
   "metadata": {},
   "source": [
    "__pycache__/             # This ignores the folder"
   ]
  },
  {
   "cell_type": "raw",
   "metadata": {},
   "source": [
    "unwanted.py              # Ignores the file unwanted.py"
   ]
  },
  {
   "cell_type": "raw",
   "metadata": {},
   "source": [
    "*.txt                    # Ignores all the text files"
   ]
  },
  {
   "cell_type": "markdown",
   "metadata": {},
   "source": [
    "## Add files to staging area"
   ]
  },
  {
   "cell_type": "raw",
   "metadata": {},
   "source": [
    "git add <name>"
   ]
  },
  {
   "cell_type": "raw",
   "metadata": {},
   "source": [
    "git add .         # To add all the files in the current folder"
   ]
  },
  {
   "cell_type": "raw",
   "metadata": {},
   "source": [
    "git add -A        # Same as above"
   ]
  },
  {
   "cell_type": "markdown",
   "metadata": {},
   "source": [
    "## Remove files from staging area"
   ]
  },
  {
   "cell_type": "raw",
   "metadata": {},
   "source": [
    "git remove <name>"
   ]
  },
  {
   "cell_type": "raw",
   "metadata": {},
   "source": [
    "git remove        # To remove all the files "
   ]
  },
  {
   "cell_type": "markdown",
   "metadata": {},
   "source": [
    "## Our first commit"
   ]
  },
  {
   "cell_type": "raw",
   "metadata": {},
   "source": [
    "git add ."
   ]
  },
  {
   "cell_type": "raw",
   "metadata": {},
   "source": [
    "git commit -m \"Message to be displayed.\""
   ]
  },
  {
   "cell_type": "raw",
   "metadata": {},
   "source": [
    "git status "
   ]
  },
  {
   "cell_type": "raw",
   "metadata": {},
   "source": [
    "git log"
   ]
  },
  {
   "cell_type": "raw",
   "metadata": {},
   "source": [
    "(or) git log --pretty=oneline"
   ]
  },
  {
   "cell_type": "markdown",
   "metadata": {},
   "source": [
    "## Cloning a remote repository"
   ]
  },
  {
   "cell_type": "raw",
   "metadata": {},
   "source": [
    "git clone <url> <where to clone>"
   ]
  },
  {
   "cell_type": "raw",
   "metadata": {},
   "source": [
    "Eg (in current machine): git clone ../remote_repo.git ."
   ]
  },
  {
   "cell_type": "raw",
   "metadata": {},
   "source": [
    "Eg (url): git clone https://github.com/CoreyMSchafer/remote_repo.git ."
   ]
  },
  {
   "cell_type": "raw",
   "metadata": {},
   "source": [
    "In the above examples, the dot(.) means clone it to the current working directory."
   ]
  },
  {
   "cell_type": "markdown",
   "metadata": {},
   "source": [
    "## View info about remote repo"
   ]
  },
  {
   "cell_type": "raw",
   "metadata": {},
   "source": [
    "git remote -v"
   ]
  },
  {
   "cell_type": "raw",
   "metadata": {},
   "source": [
    "git branch -a"
   ]
  },
  {
   "cell_type": "markdown",
   "metadata": {},
   "source": [
    "## Pushing changes into remote repo"
   ]
  },
  {
   "cell_type": "raw",
   "metadata": {},
   "source": [
    "1. Commit changes"
   ]
  },
  {
   "cell_type": "raw",
   "metadata": {},
   "source": [
    "git diff          # Show the changes made to any file(s)"
   ]
  },
  {
   "cell_type": "raw",
   "metadata": {},
   "source": [
    "git status"
   ]
  },
  {
   "cell_type": "raw",
   "metadata": {},
   "source": [
    "git add -A"
   ]
  },
  {
   "cell_type": "raw",
   "metadata": {},
   "source": [
    "git commit -m \"Modified something.\""
   ]
  },
  {
   "cell_type": "raw",
   "metadata": {},
   "source": [
    "2. Then push"
   ]
  },
  {
   "cell_type": "raw",
   "metadata": {},
   "source": [
    "git pull origin master     # This will pull any changes made since the last time we pulled from that repo"
   ]
  },
  {
   "cell_type": "raw",
   "metadata": {},
   "source": [
    "git push origin master     # origin is the name of the repo and master is the branch name"
   ]
  },
  {
   "cell_type": "markdown",
   "metadata": {},
   "source": [
    "## Create a new branch for desired feature"
   ]
  },
  {
   "cell_type": "raw",
   "metadata": {},
   "source": [
    "# We won't make changes to our master branch\n",
    "git branch # See the existing branches\n",
    "git branch <new branch name>     # creates a branch\n",
    "git checkout <new branch name>   # switches to new branch"
   ]
  },
  {
   "cell_type": "markdown",
   "metadata": {},
   "source": [
    "## Push branch to remote repo"
   ]
  },
  {
   "cell_type": "raw",
   "metadata": {},
   "source": [
    "git push -u origin <new branch name> # Pushed the new branch to remote repository  \n",
    "'''\n",
    "After using this -u flag we have now associated remote origin branch with our new branch and from now on we can just use git push or git pull without branch names\n",
    "'''\n",
    "git branch -a"
   ]
  },
  {
   "cell_type": "markdown",
   "metadata": {},
   "source": [
    "## Merge a branch"
   ]
  },
  {
   "cell_type": "raw",
   "metadata": {},
   "source": [
    "'''\n",
    "After the changes that we've made have been tested on the remote repository we'll now move them to our master branch, then we'll pull the changes from the remote system, then merge our new branch with our master branch so that our changes are merged to master. Then we'll push our changes to the master branch of the remote repository.\n",
    "'''\n",
    "git checkout master    # Switch to master branch in our system\n",
    "git pull origin master\n",
    "git branch --merge     # Shows the branches that have been merged\n",
    "git merge <new branch name> # Merge those changes to master branch\n",
    "git push origin master # push changes to remote master branch"
   ]
  },
  {
   "cell_type": "markdown",
   "metadata": {},
   "source": [
    "## Deleting a branch"
   ]
  },
  {
   "cell_type": "raw",
   "metadata": {},
   "source": [
    "git branch --merged\n",
    "git branch -d <new branch name> # deletes the branch from system\n",
    "git branch -a\n",
    "git push origin --delete <new branch name> # Deletes the new branch from remote repository"
   ]
  },
  {
   "cell_type": "markdown",
   "metadata": {},
   "source": [
    "## Reverting a change"
   ]
  },
  {
   "cell_type": "raw",
   "metadata": {},
   "source": [
    "git checkout . \n",
    "'''\n",
    "The command abandons any changes made since the last commit and restores the project to the last committed state.\n",
    "'''\n",
    "git checkout <filename> # Reverts changes made to a file"
   ]
  },
  {
   "cell_type": "markdown",
   "metadata": {},
   "source": [
    "### If we typed in a wrong message while commiting?"
   ]
  },
  {
   "cell_type": "raw",
   "metadata": {},
   "source": [
    "git commit --amend -m \"Correct message\"\n",
    "'''\n",
    "This changes the commit history\n",
    "'''"
   ]
  },
  {
   "cell_type": "markdown",
   "metadata": {},
   "source": [
    "### Checking out a previous commit"
   ]
  },
  {
   "cell_type": "markdown",
   "metadata": {},
   "source": [
    "You can check out any commit in your log, not just the most recent, by including the first six characters of the reference ID instead of a dot."
   ]
  },
  {
   "cell_type": "raw",
   "metadata": {},
   "source": [
    "git log --pretty=oneline\n",
    "git checkout <first_six_chars_of_ref_id>\n",
    "'''\n",
    "When you check out a previous commit, you leave the master branch and enter what Git refers to as a detached HEAD state. HEAD is the current state of the project; we are detached because we’ve left a named branch (master, in this case).\n",
    "'''"
   ]
  },
  {
   "cell_type": "markdown",
   "metadata": {},
   "source": [
    "To go back to the master branch:"
   ]
  },
  {
   "cell_type": "raw",
   "metadata": {},
   "source": [
    "git checkout master"
   ]
  },
  {
   "cell_type": "markdown",
   "metadata": {},
   "source": [
    "If you’re the only one working on a project and you want to discard all of the more recent commits and go back to a previous state, you can **reset** the project to a previous commit **permanantly**. Working from the master branch, enter the following:"
   ]
  },
  {
   "cell_type": "raw",
   "metadata": {},
   "source": [
    "git status\n",
    "git log --pretty=oneline\n",
    "git reset --hard <first_six_chars_of_ref_id>\n",
    "git status\n",
    "git log --pretty=oneline"
   ]
  },
  {
   "cell_type": "markdown",
   "metadata": {},
   "source": [
    "There are 3 kinds of reset:\n",
    "1. Soft- It'll remove the commit but won't make changes to files if we've added the file to staging area in the last commit, They will remain in the staging area.\n",
    "\n",
    "2. Mixed(default)- Files are removed from the staging area if they were added in the recent commit.\n",
    "\n",
    "3. Hard- Reverts all the trancked files back to the state they were in and leaves any untracked files alone. Now to remove the untracked files and directories from the staging area, use:\n",
    "git clean -df"
   ]
  },
  {
   "cell_type": "markdown",
   "metadata": {},
   "source": [
    "## Deleting the repository"
   ]
  },
  {
   "cell_type": "raw",
   "metadata": {},
   "source": [
    "git status\n",
    "rmdir /s/q .git\n",
    "git status"
   ]
  },
  {
   "cell_type": "markdown",
   "metadata": {},
   "source": [
    "## Cherrypick"
   ]
  },
  {
   "cell_type": "markdown",
   "metadata": {},
   "source": [
    "Suppose we made changes to our master branch instead of 'new branch' now we want to copy these changes to our 'new branch' and remove them from master. Do the following:"
   ]
  },
  {
   "cell_type": "raw",
   "metadata": {},
   "source": [
    "git log\n",
    "'''\n",
    "Copy first 6 or more chars of ref id of the unwanted commit in master.\n",
    "'''\n",
    "git checkout <new branch>\n",
    "git log\n",
    "git cherry-pick <copied_ref_id>\n",
    "git log\n",
    "git checkout master\n",
    "git reset --hard <ref_id_of_commit_we_want_to_go_back_to>"
   ]
  },
  {
   "cell_type": "markdown",
   "metadata": {},
   "source": [
    "## If we used git reset hard accidentally?"
   ]
  },
  {
   "cell_type": "raw",
   "metadata": {},
   "source": [
    "git reflog   # Shows coomits when we last referenced them\n",
    "git checkout <ref_id_of_log_we_used_before_reset>\n",
    "'''\n",
    "It'll only work if we've just made the changes in the past few weeks and git garbage collector has not collected it.\n",
    "'''\n",
    "git branch <backup branch>\n",
    "'''\n",
    "We were in a detached head state so these changes are temporary. If we wanna save this checkout we need to create a branch. Now these changes that we lost are now present in backup branch.\n",
    "'''"
   ]
  },
  {
   "cell_type": "markdown",
   "metadata": {},
   "source": [
    "## If our commits were pulled? "
   ]
  },
  {
   "cell_type": "markdown",
   "metadata": {},
   "source": [
    "In this case we can't change history. So if we want to undo some commits, we have to use *git revert*.\n",
    "Revert creates new commits to reverse the effects of earlier commits. In this way we don't rewrite any earlier commits. It's not going to modify or delete our existing commits, it is going to create new commits on top of those that will undo our commits without changing history."
   ]
  },
  {
   "cell_type": "raw",
   "metadata": {},
   "source": [
    "git log\n",
    "git revert <ref_id_of_unwanted_commit>"
   ]
  },
  {
   "cell_type": "raw",
   "metadata": {},
   "source": [
    "A Trick with git diff:\n",
    "git diff <ref_id1> <ref_id2>"
   ]
  },
  {
   "cell_type": "markdown",
   "metadata": {},
   "source": [
    "## Git stash"
   ]
  },
  {
   "cell_type": "markdown",
   "metadata": {},
   "source": [
    "Temporarily undo a commit and put it in a stack"
   ]
  },
  {
   "cell_type": "raw",
   "metadata": {},
   "source": [
    "git stash save \"message to remid us what we did\"\n",
    "get diff    # Last change won't show up\n",
    "get status\n",
    "get stash list    # Lists out the stashes"
   ]
  },
  {
   "cell_type": "markdown",
   "metadata": {},
   "source": [
    "NOw to come back to our original state where we made a change"
   ]
  },
  {
   "cell_type": "raw",
   "metadata": {},
   "source": [
    "We have 2 ways\n",
    "1. git stash apply stash@{id}\n",
    "   git stash list   # The stash will still be there\n",
    "   git checkout -- . # Resets us back to where we were\n",
    "\n",
    "2. git stash pop    # This applies stash and opos it off too\n",
    "   git stash list"
   ]
  },
  {
   "cell_type": "markdown",
   "metadata": {},
   "source": [
    "Suppose we were making some changes and we kept saving them in stashes. But now we don't like one of the changes(stash). To remove that stash from a list of stashes:"
   ]
  },
  {
   "cell_type": "raw",
   "metadata": {},
   "source": [
    "git stash drop stash(id)"
   ]
  },
  {
   "cell_type": "markdown",
   "metadata": {},
   "source": [
    "To clear all the stashes:"
   ]
  },
  {
   "cell_type": "raw",
   "metadata": {},
   "source": [
    "git stash clear\n",
    "git stash list"
   ]
  },
  {
   "cell_type": "markdown",
   "metadata": {},
   "source": [
    "**Note:** Stash can be carried over from branch to branch.\n",
    "If we made some changes to master branch but we wanted to make it in \"other branch\", do the following:    "
   ]
  },
  {
   "cell_type": "raw",
   "metadata": {},
   "source": [
    "git stash save \"message\"\n",
    "git checkout <other branch>\n",
    "git stash pop\n",
    "git diff\n",
    "git add .\n",
    "git commit -m \"Message\""
   ]
  }
 ],
 "metadata": {
  "kernelspec": {
   "display_name": "Python 3",
   "language": "python",
   "name": "python3"
  },
  "language_info": {
   "codemirror_mode": {
    "name": "ipython",
    "version": 3
   },
   "file_extension": ".py",
   "mimetype": "text/x-python",
   "name": "python",
   "nbconvert_exporter": "python",
   "pygments_lexer": "ipython3",
   "version": "3.8.3"
  }
 },
 "nbformat": 4,
 "nbformat_minor": 4
}

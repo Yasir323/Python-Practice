{
 "cells": [
  {
   "cell_type": "markdown",
   "metadata": {},
   "source": [
    "# Setting up the virtual environment"
   ]
  },
  {
   "cell_type": "raw",
   "metadata": {},
   "source": [
    "pip install virtualenv      # Installation\n",
    "virtualenv <webapp>         # Creates a virtual env named webapp\n",
    "./webapp/Scripts/activate   # Actiavtes the virtual env"
   ]
  },
  {
   "cell_type": "markdown",
   "metadata": {},
   "source": [
    "Alternative way:"
   ]
  },
  {
   "cell_type": "raw",
   "metadata": {},
   "source": [
    "py -m pip install --user virtualenv\n",
    "py -m venv webapp\n",
    "./webapp/Scripts/activate"
   ]
  },
  {
   "cell_type": "markdown",
   "metadata": {},
   "source": [
    "**Note:** You should exclude your virtual environment directory from your version control system using .gitignore or similar. "
   ]
  },
  {
   "cell_type": "markdown",
   "metadata": {},
   "source": [
    "You can confirm you’re in the virtual environment by checking the location of your Python interpreter, it should point to the env directory."
   ]
  },
  {
   "cell_type": "raw",
   "metadata": {},
   "source": [
    "where python\n",
    ".../env/bin/python.exe"
   ]
  },
  {
   "cell_type": "markdown",
   "metadata": {},
   "source": [
    "### To deactivate simply type"
   ]
  },
  {
   "cell_type": "raw",
   "metadata": {},
   "source": [
    "deactivate"
   ]
  },
  {
   "cell_type": "code",
   "execution_count": null,
   "metadata": {},
   "outputs": [],
   "source": []
  }
 ],
 "metadata": {
  "kernelspec": {
   "display_name": "Python 3",
   "language": "python",
   "name": "python3"
  },
  "language_info": {
   "codemirror_mode": {
    "name": "ipython",
    "version": 3
   },
   "file_extension": ".py",
   "mimetype": "text/x-python",
   "name": "python",
   "nbconvert_exporter": "python",
   "pygments_lexer": "ipython3",
   "version": "3.8.3"
  }
 },
 "nbformat": 4,
 "nbformat_minor": 4
}
